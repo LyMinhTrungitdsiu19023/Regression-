{
 "cells": [
  {
   "cell_type": "code",
   "execution_count": null,
   "id": "ee28e1d5",
   "metadata": {},
   "outputs": [],
   "source": [
    "#1"
   ]
  },
  {
   "cell_type": "code",
   "execution_count": 11,
   "id": "321b14c1",
   "metadata": {},
   "outputs": [
    {
     "data": {
      "text/html": [
       "<table>\n",
       "<thead><tr><th scope=col>X</th><th scope=col>Y</th></tr></thead>\n",
       "<tbody>\n",
       "\t<tr><td>8179</td><td>82  </td></tr>\n",
       "\t<tr><td>8362</td><td>81  </td></tr>\n",
       "\t<tr><td>8220</td><td>81  </td></tr>\n",
       "\t<tr><td>6246</td><td>87  </td></tr>\n",
       "\t<tr><td>9100</td><td>66  </td></tr>\n",
       "\t<tr><td>6561</td><td>68  </td></tr>\n",
       "</tbody>\n",
       "</table>\n"
      ],
      "text/latex": [
       "\\begin{tabular}{r|ll}\n",
       " X & Y\\\\\n",
       "\\hline\n",
       "\t 8179 & 82  \\\\\n",
       "\t 8362 & 81  \\\\\n",
       "\t 8220 & 81  \\\\\n",
       "\t 6246 & 87  \\\\\n",
       "\t 9100 & 66  \\\\\n",
       "\t 6561 & 68  \\\\\n",
       "\\end{tabular}\n"
      ],
      "text/markdown": [
       "\n",
       "| X | Y |\n",
       "|---|---|\n",
       "| 8179 | 82   |\n",
       "| 8362 | 81   |\n",
       "| 8220 | 81   |\n",
       "| 6246 | 87   |\n",
       "| 9100 | 66   |\n",
       "| 6561 | 68   |\n",
       "\n"
      ],
      "text/plain": [
       "  X    Y \n",
       "1 8179 82\n",
       "2 8362 81\n",
       "3 8220 81\n",
       "4 6246 87\n",
       "5 9100 66\n",
       "6 6561 68"
      ]
     },
     "metadata": {},
     "output_type": "display_data"
    }
   ],
   "source": [
    "data = read.csv('Quiz 3.txt', header=T, sep='')\n",
    "head(data)"
   ]
  },
  {
   "cell_type": "code",
   "execution_count": 14,
   "id": "4ddb8936",
   "metadata": {
    "scrolled": true
   },
   "outputs": [
    {
     "name": "stderr",
     "output_type": "stream",
     "text": [
      "The following objects are masked from data (pos = 3):\n",
      "\n",
      "    X, Y\n",
      "\n"
     ]
    },
    {
     "data": {
      "image/png": "[encoded data removed]",
      "text/plain": [
       "plot without title"
      ]
     },
     "metadata": {},
     "output_type": "display_data"
    }
   ],
   "source": [
    "attach(data)\n",
    "\n",
    "plot(X, Y, pch=16, col='blue', xlab = 'X', ylab = 'Y')"
   ]
  },
  {
   "cell_type": "code",
   "execution_count": null,
   "id": "b9bbae0c",
   "metadata": {},
   "outputs": [],
   "source": [
    "#2"
   ]
  },
  {
   "cell_type": "code",
   "execution_count": 16,
   "id": "c5e0b0cb",
   "metadata": {},
   "outputs": [
    {
     "data": {
      "text/plain": [
       "\n",
       "Call:\n",
       "lm(formula = Y ~ X)\n",
       "\n",
       "Residuals:\n",
       "    Min      1Q  Median      3Q     Max \n",
       "-14.907  -2.241   0.562   3.805  10.286 \n",
       "\n",
       "Coefficients:\n",
       "              Estimate Std. Error t value Pr(>|t|)    \n",
       "(Intercept) 85.6765863  1.8470241  46.386  < 2e-16 ***\n",
       "X           -0.0009903  0.0002448  -4.045 0.000119 ***\n",
       "---\n",
       "Signif. codes:  0 '***' 0.001 '**' 0.01 '*' 0.05 '.' 0.1 ' ' 1\n",
       "\n",
       "Residual standard error: 5.725 on 81 degrees of freedom\n",
       "Multiple R-squared:  0.1681,\tAdjusted R-squared:  0.1578 \n",
       "F-statistic: 16.36 on 1 and 81 DF,  p-value: 0.0001186\n"
      ]
     },
     "metadata": {},
     "output_type": "display_data"
    }
   ],
   "source": [
    "model = lm(Y ~ X)\n",
    "summary(model)"
   ]
  },
  {
   "cell_type": "code",
   "execution_count": null,
   "id": "945d09e9",
   "metadata": {},
   "outputs": [],
   "source": [
    "#3"
   ]
  },
  {
   "cell_type": "code",
   "execution_count": 17,
   "id": "e700e876",
   "metadata": {},
   "outputs": [
    {
     "data": {
      "text/html": [
       "-541529.831325301"
      ],
      "text/latex": [
       "-541529.831325301"
      ],
      "text/markdown": [
       "-541529.831325301"
      ],
      "text/plain": [
       "[1] -541529.8"
      ]
     },
     "metadata": {},
     "output_type": "display_data"
    }
   ],
   "source": [
    "X = X\n",
    "Y = Y\n",
    "val1 = sum((X - mean(X))*(Y-mean(Y)))\n",
    "val1"
   ]
  },
  {
   "cell_type": "code",
   "execution_count": 18,
   "id": "709afdc1",
   "metadata": {},
   "outputs": [
    {
     "data": {
      "text/html": [
       "546820483.421687"
      ],
      "text/latex": [
       "546820483.421687"
      ],
      "text/markdown": [
       "546820483.421687"
      ],
      "text/plain": [
       "[1] 546820483"
      ]
     },
     "metadata": {},
     "output_type": "display_data"
    }
   ],
   "source": [
    "sumvar =  sum((X - mean(X))^2)\n",
    "sumvar"
   ]
  },
  {
   "cell_type": "code",
   "execution_count": 19,
   "id": "8c4210c6",
   "metadata": {},
   "outputs": [
    {
     "data": {
      "text/html": [
       "-0.000990324700232004"
      ],
      "text/latex": [
       "-0.000990324700232004"
      ],
      "text/markdown": [
       "-0.000990324700232004"
      ],
      "text/plain": [
       "[1] -0.0009903247"
      ]
     },
     "metadata": {},
     "output_type": "display_data"
    },
    {
     "data": {
      "text/html": [
       "85.6765862774749"
      ],
      "text/latex": [
       "85.6765862774749"
      ],
      "text/markdown": [
       "85.6765862774749"
      ],
      "text/plain": [
       "[1] 85.67659"
      ]
     },
     "metadata": {},
     "output_type": "display_data"
    }
   ],
   "source": [
    "b1 = val1/sumvar\n",
    "b1\n",
    "b0 = mean(Y) - b1*mean(X)\n",
    "b0"
   ]
  },
  {
   "cell_type": "code",
   "execution_count": 20,
   "id": "cf8dd6bd",
   "metadata": {},
   "outputs": [
    {
     "data": {
      "image/png": "[encoded data removed]",
      "text/plain": [
       "plot without title"
      ]
     },
     "metadata": {},
     "output_type": "display_data"
    }
   ],
   "source": [
    "#4\n",
    "scatter.smooth(X, Y, col='blue', pch = 16)"
   ]
  },
  {
   "cell_type": "code",
   "execution_count": null,
   "id": "d6464b55",
   "metadata": {},
   "outputs": [],
   "source": [
    "# Fit"
   ]
  },
  {
   "cell_type": "code",
   "execution_count": null,
   "id": "75cf6175",
   "metadata": {},
   "outputs": [],
   "source": []
  }
 ],
 "metadata": {
  "kernelspec": {
   "display_name": "R",
   "language": "R",
   "name": "ir"
  },
  "language_info": {
   "codemirror_mode": "r",
   "file_extension": ".r",
   "mimetype": "text/x-r-source",
   "name": "R",
   "pygments_lexer": "r",
   "version": "3.6.1"
  }
 },
 "nbformat": 4,
 "nbformat_minor": 5
}
