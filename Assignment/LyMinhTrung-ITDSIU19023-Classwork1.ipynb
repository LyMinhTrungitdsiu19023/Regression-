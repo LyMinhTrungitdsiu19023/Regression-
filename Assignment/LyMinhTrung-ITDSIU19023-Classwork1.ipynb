{
 "cells": [
  {
   "cell_type": "code",
   "execution_count": 1,
   "id": "2dfab3fd",
   "metadata": {},
   "outputs": [],
   "source": [
    "A = matrix(c(1, 4, 2, 6, 3, 8), nrow = 3, byrow = TRUE)"
   ]
  },
  {
   "cell_type": "code",
   "execution_count": 2,
   "id": "09f9208a",
   "metadata": {},
   "outputs": [],
   "source": [
    "C = matrix(c(3, 8, 1, 5, 4, 0), nrow = 2, byrow = TRUE)"
   ]
  },
  {
   "cell_type": "code",
   "execution_count": 3,
   "id": "1172c2db",
   "metadata": {},
   "outputs": [
    {
     "name": "stdout",
     "output_type": "stream",
     "text": [
      "     [,1] [,2] [,3]\n",
      "[1,]   23   24    1\n",
      "[2,]   36   40    2\n",
      "[3,]   49   56    3\n"
     ]
    }
   ],
   "source": [
    "print(A %*% C)"
   ]
  },
  {
   "cell_type": "code",
   "execution_count": null,
   "id": "4bc0e04c",
   "metadata": {},
   "outputs": [],
   "source": [
    "#5.4"
   ]
  },
  {
   "cell_type": "code",
   "execution_count": 5,
   "id": "cb54e106",
   "metadata": {},
   "outputs": [
    {
     "name": "stdout",
     "output_type": "stream",
     "text": [
      "     [,1] [,2]  [,3]   [,4]  [,5]   [,6]\n",
      "[1,] 49.0 56.0  63.0  71.40  77.0  81.90\n",
      "[2,] 56.0 64.0  72.0  81.60  88.0  93.60\n",
      "[3,] 63.0 72.0  81.0  91.80  99.0 105.30\n",
      "[4,] 71.4 81.6  91.8 104.04 112.2 119.34\n",
      "[5,] 77.0 88.0  99.0 112.20 121.0 128.70\n",
      "[6,] 81.9 93.6 105.3 119.34 128.7 136.89\n"
     ]
    }
   ],
   "source": [
    "x <- matrix(c(8,4,0,-4,-8), nrow = 1)\n",
    "y <- matrix(c(7,8,9.0,10.2,11.0,11.7),nrow = 1)\n",
    "print(t(y) %*% y)"
   ]
  },
  {
   "cell_type": "code",
   "execution_count": 7,
   "id": "e29c65bc",
   "metadata": {},
   "outputs": [
    {
     "name": "stdout",
     "output_type": "stream",
     "text": [
      "     [,1] [,2] [,3] [,4] [,5]\n",
      "[1,]   64   32    0  -32  -64\n",
      "[2,]   32   16    0  -16  -32\n",
      "[3,]    0    0    0    0    0\n",
      "[4,]  -32  -16    0   16   32\n",
      "[5,]  -64  -32    0   32   64\n"
     ]
    }
   ],
   "source": [
    "print(t(x) %*% x)"
   ]
  },
  {
   "cell_type": "code",
   "execution_count": 8,
   "id": "3a2aa4dd",
   "metadata": {},
   "outputs": [
    {
     "name": "stdout",
     "output_type": "stream",
     "text": [
      "     [,1] [,2] [,3]  [,4] [,5]  [,6]\n",
      "[1,]   56   64   72  81.6   88  93.6\n",
      "[2,]   28   32   36  40.8   44  46.8\n",
      "[3,]    0    0    0   0.0    0   0.0\n",
      "[4,]  -28  -32  -36 -40.8  -44 -46.8\n",
      "[5,]  -56  -64  -72 -81.6  -88 -93.6\n"
     ]
    }
   ],
   "source": [
    "print(t(x) %*% y)"
   ]
  },
  {
   "cell_type": "code",
   "execution_count": null,
   "id": "52e8c28d",
   "metadata": {},
   "outputs": [],
   "source": []
  }
 ],
 "metadata": {
  "kernelspec": {
   "display_name": "R",
   "language": "R",
   "name": "ir"
  },
  "language_info": {
   "codemirror_mode": "r",
   "file_extension": ".r",
   "mimetype": "text/x-r-source",
   "name": "R",
   "pygments_lexer": "r",
   "version": "3.6.1"
  }
 },
 "nbformat": 4,
 "nbformat_minor": 5
}
