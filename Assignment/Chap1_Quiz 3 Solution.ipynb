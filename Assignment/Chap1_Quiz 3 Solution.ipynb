{
 "cells": [
  {
   "cell_type": "markdown",
   "id": "298b46b8",
   "metadata": {},
   "source": [
    "# Ex.28. Crime rate"
   ]
  },
  {
   "cell_type": "code",
   "execution_count": 15,
   "id": "3c2430b9",
   "metadata": {},
   "outputs": [
    {
     "data": {
      "text/html": [
       "<table>\n",
       "<thead><tr><th scope=col>V1</th><th scope=col>V2</th></tr></thead>\n",
       "<tbody>\n",
       "\t<tr><td>8487</td><td>74  </td></tr>\n",
       "\t<tr><td>8179</td><td>82  </td></tr>\n",
       "\t<tr><td>8362</td><td>81  </td></tr>\n",
       "\t<tr><td>8220</td><td>81  </td></tr>\n",
       "\t<tr><td>6246</td><td>87  </td></tr>\n",
       "\t<tr><td>9100</td><td>66  </td></tr>\n",
       "</tbody>\n",
       "</table>\n"
      ],
      "text/latex": [
       "\\begin{tabular}{r|ll}\n",
       " V1 & V2\\\\\n",
       "\\hline\n",
       "\t 8487 & 74  \\\\\n",
       "\t 8179 & 82  \\\\\n",
       "\t 8362 & 81  \\\\\n",
       "\t 8220 & 81  \\\\\n",
       "\t 6246 & 87  \\\\\n",
       "\t 9100 & 66  \\\\\n",
       "\\end{tabular}\n"
      ],
      "text/markdown": [
       "\n",
       "| V1 | V2 |\n",
       "|---|---|\n",
       "| 8487 | 74   |\n",
       "| 8179 | 82   |\n",
       "| 8362 | 81   |\n",
       "| 8220 | 81   |\n",
       "| 6246 | 87   |\n",
       "| 9100 | 66   |\n",
       "\n"
      ],
      "text/plain": [
       "  V1   V2\n",
       "1 8487 74\n",
       "2 8179 82\n",
       "3 8362 81\n",
       "4 8220 81\n",
       "5 6246 87\n",
       "6 9100 66"
      ]
     },
     "metadata": {},
     "output_type": "display_data"
    }
   ],
   "source": [
    "dat28 = read.table('../data/CH01PR28.txt', header=F)\n",
    "head(dat28)"
   ]
  },
  {
   "cell_type": "code",
   "execution_count": 16,
   "id": "85ec79dd",
   "metadata": {
    "scrolled": true
   },
   "outputs": [
    {
     "name": "stderr",
     "output_type": "stream",
     "text": [
      "The following objects are masked from dat28 (pos = 3):\n",
      "\n",
      "    V1, V2\n",
      "\n",
      "The following objects are masked from dat28 (pos = 4):\n",
      "\n",
      "    V1, V2\n",
      "\n",
      "The following objects are masked from dat28 (pos = 5):\n",
      "\n",
      "    V1, V2\n",
      "\n",
      "The following objects are masked from dat28 (pos = 6):\n",
      "\n",
      "    V1, V2\n",
      "\n"
     ]
    },
    {
     "data": {
      "image/png": "[encoded data removed]",
      "text/plain": [
       "plot without title"
      ]
     },
     "metadata": {},
     "output_type": "display_data"
    }
   ],
   "source": [
    "attach(dat28)\n",
    "X = V2\n",
    "Y = V1\n",
    "# dev.new(width=5, height=3, unit=\"in\")\n",
    "plot(X, Y, pch=16, col='blue')"
   ]
  },
  {
   "cell_type": "code",
   "execution_count": 11,
   "id": "9ab07003",
   "metadata": {},
   "outputs": [],
   "source": []
  },
  {
   "cell_type": "code",
   "execution_count": 13,
   "id": "e69219fc",
   "metadata": {},
   "outputs": [
    {
     "data": {
      "image/png": "[encoded data removed]",
      "text/plain": [
       "plot without title"
      ]
     },
     "metadata": {},
     "output_type": "display_data"
    }
   ],
   "source": [
    "# Scatter plot with smooth option\n",
    "options(jupyter.plot_scale=2)\n",
    "scatter.smooth(X, Y, col='blue', pch = 16)"
   ]
  },
  {
   "cell_type": "markdown",
   "id": "d546a555",
   "metadata": {},
   "source": [
    "## Using lm function"
   ]
  },
  {
   "cell_type": "code",
   "execution_count": 18,
   "id": "9a98f5b1",
   "metadata": {},
   "outputs": [
    {
     "data": {
      "text/plain": [
       "\n",
       "Call:\n",
       "lm(formula = Y ~ X)\n",
       "\n",
       "Residuals:\n",
       "    Min      1Q  Median      3Q     Max \n",
       "-5278.3 -1757.5  -210.5  1575.3  6803.3 \n",
       "\n",
       "Coefficients:\n",
       "            Estimate Std. Error t value Pr(>|t|)    \n",
       "(Intercept) 20517.60    3277.64   6.260 1.67e-08 ***\n",
       "X            -170.58      41.57  -4.103 9.57e-05 ***\n",
       "---\n",
       "Signif. codes:  0 '***' 0.001 '**' 0.01 '*' 0.05 '.' 0.1 ' ' 1\n",
       "\n",
       "Residual standard error: 2356 on 82 degrees of freedom\n",
       "Multiple R-squared:  0.1703,\tAdjusted R-squared:  0.1602 \n",
       "F-statistic: 16.83 on 1 and 82 DF,  p-value: 9.571e-05\n"
      ]
     },
     "metadata": {},
     "output_type": "display_data"
    }
   ],
   "source": [
    "model = lm(Y ~ X)\n",
    "summary(model)"
   ]
  },
  {
   "cell_type": "code",
   "execution_count": 19,
   "id": "5154109d",
   "metadata": {},
   "outputs": [
    {
     "data": {
      "image/png": "[encoded data removed]",
      "text/plain": [
       "plot without title"
      ]
     },
     "metadata": {},
     "output_type": "display_data"
    }
   ],
   "source": [
    "# with fitted line\n",
    "plot(X, Y, pch=16, col='blue')\n",
    "abline(model$coef, lwd=2, col='orange')"
   ]
  },
  {
   "cell_type": "markdown",
   "id": "866c0656",
   "metadata": {},
   "source": [
    "# Manual calculation"
   ]
  },
  {
   "cell_type": "markdown",
   "id": "a316d127",
   "metadata": {},
   "source": [
    "The least squares estimators (the minimizers of the error sum of squares):\n",
    "\n",
    "The slope is given by:\n",
    "$$\n",
    "   b_1 = \\frac{\\sum_{i=1}^n(X_i - \\overline{X})(Y_i - \\overline{Y}\n",
    ")}{\\sum_{i=1}^n (X_i-\\overline{X})^2} = \\frac{\\widehat{Cov}(X,Y)}{\\widehat{Var}(\n",
    "X)}.$$\n",
    "\n",
    "The intercept estimate is:\n",
    "$$ b_0 = \\overline{Y} - \\widehat{\\beta}_1 \\cdot \\overline{\n",
    "X}.$$"
   ]
  },
  {
   "cell_type": "code",
   "execution_count": 22,
   "id": "b4ccd88a",
   "metadata": {},
   "outputs": [
    {
     "data": {
      "text/html": [
       "-547928.119047619"
      ],
      "text/latex": [
       "-547928.119047619"
      ],
      "text/markdown": [
       "-547928.119047619"
      ],
      "text/plain": [
       "[1] -547928.1"
      ]
     },
     "metadata": {},
     "output_type": "display_data"
    }
   ],
   "source": [
    "val1 = sum((X - mean(X))*(Y-mean(Y)))\n",
    "val1"
   ]
  },
  {
   "cell_type": "code",
   "execution_count": 23,
   "id": "0d7ae22e",
   "metadata": {},
   "outputs": [
    {
     "data": {
      "text/html": [
       "3212.2380952381"
      ],
      "text/latex": [
       "3212.2380952381"
      ],
      "text/markdown": [
       "3212.2380952381"
      ],
      "text/plain": [
       "[1] 3212.238"
      ]
     },
     "metadata": {},
     "output_type": "display_data"
    }
   ],
   "source": [
    "sumvar =  sum((X - mean(X))^2)\n",
    "sumvar"
   ]
  },
  {
   "cell_type": "code",
   "execution_count": 24,
   "id": "59c85993",
   "metadata": {},
   "outputs": [
    {
     "data": {
      "text/html": [
       "-170.575188638688"
      ],
      "text/latex": [
       "-170.575188638688"
      ],
      "text/markdown": [
       "-170.575188638688"
      ],
      "text/plain": [
       "[1] -170.5752"
      ]
     },
     "metadata": {},
     "output_type": "display_data"
    },
    {
     "data": {
      "text/html": [
       "20517.5999451502"
      ],
      "text/latex": [
       "20517.5999451502"
      ],
      "text/markdown": [
       "20517.5999451502"
      ],
      "text/plain": [
       "[1] 20517.6"
      ]
     },
     "metadata": {},
     "output_type": "display_data"
    }
   ],
   "source": [
    "b1 = val1/sumvar\n",
    "b1\n",
    "b0 = mean(Y) - b1*mean(X)\n",
    "b0"
   ]
  },
  {
   "cell_type": "code",
   "execution_count": 28,
   "id": "a0fc6630",
   "metadata": {},
   "outputs": [
    {
     "data": {
      "text/html": [
       "<dl class=dl-horizontal>\n",
       "\t<dt>(Intercept)</dt>\n",
       "\t\t<dd>62.3658585858585</dd>\n",
       "\t<dt>LotSize</dt>\n",
       "\t\t<dd>3.57020202020202</dd>\n",
       "</dl>\n"
      ],
      "text/latex": [
       "\\begin{description*}\n",
       "\\item[(Intercept)] 62.3658585858585\n",
       "\\item[LotSize] 3.57020202020202\n",
       "\\end{description*}\n"
      ],
      "text/markdown": [
       "(Intercept)\n",
       ":   62.3658585858585LotSize\n",
       ":   3.57020202020202\n",
       "\n"
      ],
      "text/plain": [
       "(Intercept)     LotSize \n",
       "  62.365859    3.570202 "
      ]
     },
     "metadata": {},
     "output_type": "display_data"
    }
   ],
   "source": [
    "coef(model)"
   ]
  },
  {
   "cell_type": "code",
   "execution_count": 25,
   "id": "154c6b4b",
   "metadata": {},
   "outputs": [
    {
     "data": {
      "text/html": [
       "455273165.292534"
      ],
      "text/latex": [
       "455273165.292534"
      ],
      "text/markdown": [
       "455273165.292534"
      ],
      "text/plain": [
       "[1] 455273165"
      ]
     },
     "metadata": {},
     "output_type": "display_data"
    }
   ],
   "source": [
    "sse = sum((Y - (b0 + b1* X))^2)\n",
    "sse"
   ]
  },
  {
   "cell_type": "code",
   "execution_count": 26,
   "id": "738d220d",
   "metadata": {},
   "outputs": [
    {
     "data": {
      "text/html": [
       "5552111.77186018"
      ],
      "text/latex": [
       "5552111.77186018"
      ],
      "text/markdown": [
       "5552111.77186018"
      ],
      "text/plain": [
       "[1] 5552112"
      ]
     },
     "metadata": {},
     "output_type": "display_data"
    }
   ],
   "source": [
    "mse = sse / (84 - 2)\n",
    "mse"
   ]
  },
  {
   "cell_type": "code",
   "execution_count": 27,
   "id": "5a99699f",
   "metadata": {
    "scrolled": true
   },
   "outputs": [
    {
     "data": {
      "text/html": [
       "<table>\n",
       "<thead><tr><th></th><th scope=col>Df</th><th scope=col>Sum Sq</th><th scope=col>Mean Sq</th><th scope=col>F value</th><th scope=col>Pr(&gt;F)</th></tr></thead>\n",
       "<tbody>\n",
       "\t<tr><th scope=row>X</th><td> 1          </td><td> 93462942   </td><td>93462942    </td><td>16.83376    </td><td>9.571396e-05</td></tr>\n",
       "\t<tr><th scope=row>Residuals</th><td>82          </td><td>455273165   </td><td> 5552112    </td><td>      NA    </td><td>          NA</td></tr>\n",
       "</tbody>\n",
       "</table>\n"
      ],
      "text/latex": [
       "\\begin{tabular}{r|lllll}\n",
       "  & Df & Sum Sq & Mean Sq & F value & Pr(>F)\\\\\n",
       "\\hline\n",
       "\tX &  1           &  93462942    & 93462942     & 16.83376     & 9.571396e-05\\\\\n",
       "\tResiduals & 82           & 455273165    &  5552112     &       NA     &           NA\\\\\n",
       "\\end{tabular}\n"
      ],
      "text/markdown": [
       "\n",
       "| <!--/--> | Df | Sum Sq | Mean Sq | F value | Pr(>F) |\n",
       "|---|---|---|---|---|---|\n",
       "| X |  1           |  93462942    | 93462942     | 16.83376     | 9.571396e-05 |\n",
       "| Residuals | 82           | 455273165    |  5552112     |       NA     |           NA |\n",
       "\n"
      ],
      "text/plain": [
       "          Df Sum Sq    Mean Sq  F value  Pr(>F)      \n",
       "X          1  93462942 93462942 16.83376 9.571396e-05\n",
       "Residuals 82 455273165  5552112       NA           NA"
      ]
     },
     "metadata": {},
     "output_type": "display_data"
    }
   ],
   "source": [
    "anova(model)"
   ]
  }
 ],
 "metadata": {
  "kernelspec": {
   "display_name": "R",
   "language": "R",
   "name": "ir"
  },
  "language_info": {
   "codemirror_mode": "r",
   "file_extension": ".r",
   "mimetype": "text/x-r-source",
   "name": "R",
   "pygments_lexer": "r",
   "version": "3.6.1"
  }
 },
 "nbformat": 4,
 "nbformat_minor": 5
}
