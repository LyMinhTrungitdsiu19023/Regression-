{
 "cells": [
  {
   "cell_type": "markdown",
   "id": "f51e38cb",
   "metadata": {},
   "source": [
    "## Example p.202"
   ]
  },
  {
   "cell_type": "code",
   "execution_count": null,
   "id": "7b163e13",
   "metadata": {},
   "outputs": [],
   "source": []
  },
  {
   "cell_type": "code",
   "execution_count": 1,
   "id": "6db8709f",
   "metadata": {},
   "outputs": [
    {
     "name": "stderr",
     "output_type": "stream",
     "text": [
      "Warning message in file(file, \"rt\"):\n",
      "\"cannot open file 'Tolucan.txt': No such file or directory\""
     ]
    },
    {
     "ename": "ERROR",
     "evalue": "Error in file(file, \"rt\"): cannot open the connection\n",
     "output_type": "error",
     "traceback": [
      "Error in file(file, \"rt\"): cannot open the connection\nTraceback:\n",
      "1. read.table(\"Tolucan.txt\", header = TRUE)",
      "2. file(file, \"rt\")"
     ]
    }
   ],
   "source": [
    "data = read.table(\"Tolucan.txt\", header = TRUE)\n",
    "d"
   ]
  },
  {
   "cell_type": "code",
   "execution_count": 2,
   "id": "2a211c15",
   "metadata": {},
   "outputs": [],
   "source": [
    "model=lm(data$workHours~data$lotSize)"
   ]
  },
  {
   "cell_type": "code",
   "execution_count": 3,
   "id": "21875c63",
   "metadata": {
    "scrolled": true
   },
   "outputs": [
    {
     "data": {
      "text/plain": [
       "\n",
       "Call:\n",
       "lm(formula = data$workHours ~ data$lotSize)\n",
       "\n",
       "Residuals:\n",
       "    Min      1Q  Median      3Q     Max \n",
       "-83.876 -34.088  -5.982  38.826 103.528 \n",
       "\n",
       "Coefficients:\n",
       "             Estimate Std. Error t value Pr(>|t|)    \n",
       "(Intercept)    62.366     26.177   2.382   0.0259 *  \n",
       "data$lotSize    3.570      0.347  10.290 4.45e-10 ***\n",
       "---\n",
       "Signif. codes:  0 '***' 0.001 '**' 0.01 '*' 0.05 '.' 0.1 ' ' 1\n",
       "\n",
       "Residual standard error: 48.82 on 23 degrees of freedom\n",
       "Multiple R-squared:  0.8215,\tAdjusted R-squared:  0.8138 \n",
       "F-statistic: 105.9 on 1 and 23 DF,  p-value: 4.449e-10\n"
      ]
     },
     "metadata": {},
     "output_type": "display_data"
    }
   ],
   "source": [
    "summary(model)"
   ]
  },
  {
   "cell_type": "code",
   "execution_count": 4,
   "id": "2dce566d",
   "metadata": {},
   "outputs": [],
   "source": [
    "X=matrix(c(rep(1,length(data$lotSize)),data$lotSize),ncol=2) "
   ]
  },
  {
   "cell_type": "code",
   "execution_count": 5,
   "id": "255e8d52",
   "metadata": {},
   "outputs": [],
   "source": [
    "Y=matrix(c(data$workHours),ncol=1)"
   ]
  },
  {
   "cell_type": "code",
   "execution_count": 15,
   "id": "499c95fb",
   "metadata": {},
   "outputs": [
    {
     "data": {
      "text/html": [
       "<table>\n",
       "<tbody>\n",
       "\t<tr><td>  25  </td><td>  1750</td></tr>\n",
       "\t<tr><td>1750  </td><td>142300</td></tr>\n",
       "</tbody>\n",
       "</table>\n"
      ],
      "text/latex": [
       "\\begin{tabular}{ll}\n",
       "\t   25   &   1750\\\\\n",
       "\t 1750   & 142300\\\\\n",
       "\\end{tabular}\n"
      ],
      "text/markdown": [
       "\n",
       "|   25   |   1750 |\n",
       "| 1750   | 142300 |\n",
       "\n"
      ],
      "text/plain": [
       "     [,1] [,2]  \n",
       "[1,]   25   1750\n",
       "[2,] 1750 142300"
      ]
     },
     "metadata": {},
     "output_type": "display_data"
    }
   ],
   "source": [
    "XtX=(t(X))%*%X\n",
    "XtX"
   ]
  },
  {
   "cell_type": "code",
   "execution_count": 16,
   "id": "63535904",
   "metadata": {},
   "outputs": [
    {
     "data": {
      "text/html": [
       "<table>\n",
       "<tbody>\n",
       "\t<tr><td>  7807</td></tr>\n",
       "\t<tr><td>617180</td></tr>\n",
       "</tbody>\n",
       "</table>\n"
      ],
      "text/latex": [
       "\\begin{tabular}{l}\n",
       "\t   7807\\\\\n",
       "\t 617180\\\\\n",
       "\\end{tabular}\n"
      ],
      "text/markdown": [
       "\n",
       "|   7807 |\n",
       "| 617180 |\n",
       "\n"
      ],
      "text/plain": [
       "     [,1]  \n",
       "[1,]   7807\n",
       "[2,] 617180"
      ]
     },
     "metadata": {},
     "output_type": "display_data"
    }
   ],
   "source": [
    "XtY=(t(X))%*%Y\n",
    "XtY"
   ]
  },
  {
   "cell_type": "code",
   "execution_count": 17,
   "id": "501bfb91",
   "metadata": {},
   "outputs": [
    {
     "data": {
      "text/html": [
       "<table>\n",
       "<tbody>\n",
       "\t<tr><td> 0.287474747 </td><td>-3.535354e-03</td></tr>\n",
       "\t<tr><td>-0.003535354 </td><td> 5.050505e-05</td></tr>\n",
       "</tbody>\n",
       "</table>\n"
      ],
      "text/latex": [
       "\\begin{tabular}{ll}\n",
       "\t  0.287474747  & -3.535354e-03\\\\\n",
       "\t -0.003535354  &  5.050505e-05\\\\\n",
       "\\end{tabular}\n"
      ],
      "text/markdown": [
       "\n",
       "|  0.287474747  | -3.535354e-03 |\n",
       "| -0.003535354  |  5.050505e-05 |\n",
       "\n"
      ],
      "text/plain": [
       "     [,1]         [,2]         \n",
       "[1,]  0.287474747 -3.535354e-03\n",
       "[2,] -0.003535354  5.050505e-05"
      ]
     },
     "metadata": {},
     "output_type": "display_data"
    }
   ],
   "source": [
    "inverseXtX= solve((t(X))%*%X)\n",
    "inverseXtX"
   ]
  },
  {
   "cell_type": "code",
   "execution_count": 6,
   "id": "a4be1373",
   "metadata": {},
   "outputs": [
    {
     "data": {
      "text/html": [
       "<table>\n",
       "<tbody>\n",
       "\t<tr><td>62.365859</td></tr>\n",
       "\t<tr><td> 3.570202</td></tr>\n",
       "</tbody>\n",
       "</table>\n"
      ],
      "text/latex": [
       "\\begin{tabular}{l}\n",
       "\t 62.365859\\\\\n",
       "\t  3.570202\\\\\n",
       "\\end{tabular}\n"
      ],
      "text/markdown": [
       "\n",
       "| 62.365859 |\n",
       "|  3.570202 |\n",
       "\n"
      ],
      "text/plain": [
       "     [,1]     \n",
       "[1,] 62.365859\n",
       "[2,]  3.570202"
      ]
     },
     "metadata": {},
     "output_type": "display_data"
    }
   ],
   "source": [
    "b=solve((t(X))%*%X)%*%(t(X))%*%Y\n",
    "b"
   ]
  },
  {
   "cell_type": "code",
   "execution_count": 18,
   "id": "ae9de023",
   "metadata": {},
   "outputs": [
    {
     "data": {
      "text/html": [
       "<dl class=dl-horizontal>\n",
       "\t<dt>(Intercept)</dt>\n",
       "\t\t<dd>62.3658585858585</dd>\n",
       "\t<dt>X1</dt>\n",
       "\t\t<dd>&lt;NA&gt;</dd>\n",
       "\t<dt>X2</dt>\n",
       "\t\t<dd>3.57020202020202</dd>\n",
       "</dl>\n"
      ],
      "text/latex": [
       "\\begin{description*}\n",
       "\\item[(Intercept)] 62.3658585858585\n",
       "\\item[X1] <NA>\n",
       "\\item[X2] 3.57020202020202\n",
       "\\end{description*}\n"
      ],
      "text/markdown": [
       "(Intercept)\n",
       ":   62.3658585858585X1\n",
       ":   &lt;NA&gt;X2\n",
       ":   3.57020202020202\n",
       "\n"
      ],
      "text/plain": [
       "(Intercept)          X1          X2 \n",
       "  62.365859          NA    3.570202 "
      ]
     },
     "metadata": {},
     "output_type": "display_data"
    }
   ],
   "source": [
    "coefficients(lm(Y~X))"
   ]
  },
  {
   "cell_type": "markdown",
   "id": "158b31bd",
   "metadata": {},
   "source": [
    "## 5.72"
   ]
  },
  {
   "cell_type": "code",
   "execution_count": 7,
   "id": "9250ddca",
   "metadata": {},
   "outputs": [
    {
     "name": "stdout",
     "output_type": "stream",
     "text": [
      "          [,1]\n",
      " [1,] 347.9820\n",
      " [2,] 169.4719\n",
      " [3,] 240.8760\n",
      " [4,] 383.6840\n",
      " [5,] 312.2800\n",
      " [6,] 276.5780\n",
      " [7,] 490.7901\n",
      " [8,] 347.9820\n",
      " [9,] 419.3861\n",
      "[10,] 240.8760\n",
      "[11,] 205.1739\n",
      "[12,] 312.2800\n",
      "[13,] 383.6840\n",
      "[14,] 133.7699\n",
      "[15,] 455.0881\n",
      "[16,] 419.3861\n",
      "[17,] 169.4719\n",
      "[18,] 240.8760\n",
      "[19,] 383.6840\n",
      "[20,] 455.0881\n",
      "[21,] 169.4719\n",
      "[22,] 383.6840\n",
      "[23,] 205.1739\n",
      "[24,] 347.9820\n",
      "[25,] 312.2800\n"
     ]
    }
   ],
   "source": [
    "print(X %*% b)"
   ]
  },
  {
   "cell_type": "markdown",
   "id": "7d0bf31d",
   "metadata": {},
   "source": [
    "## 5.73"
   ]
  },
  {
   "cell_type": "code",
   "execution_count": 8,
   "id": "0fdcf216",
   "metadata": {},
   "outputs": [],
   "source": [
    "H=X %*% solve(t(X) %*% X) %*% t(X)"
   ]
  },
  {
   "cell_type": "code",
   "execution_count": 9,
   "id": "9d631450",
   "metadata": {},
   "outputs": [],
   "source": [
    "Y_hat=H %*% Y"
   ]
  },
  {
   "cell_type": "code",
   "execution_count": 10,
   "id": "6aaececf",
   "metadata": {},
   "outputs": [
    {
     "name": "stdout",
     "output_type": "stream",
     "text": [
      "          [,1]\n",
      " [1,] 347.9820\n",
      " [2,] 169.4719\n",
      " [3,] 240.8760\n",
      " [4,] 383.6840\n",
      " [5,] 312.2800\n",
      " [6,] 276.5780\n",
      " [7,] 490.7901\n",
      " [8,] 347.9820\n",
      " [9,] 419.3861\n",
      "[10,] 240.8760\n",
      "[11,] 205.1739\n",
      "[12,] 312.2800\n",
      "[13,] 383.6840\n",
      "[14,] 133.7699\n",
      "[15,] 455.0881\n",
      "[16,] 419.3861\n",
      "[17,] 169.4719\n",
      "[18,] 240.8760\n",
      "[19,] 383.6840\n",
      "[20,] 455.0881\n",
      "[21,] 169.4719\n",
      "[22,] 383.6840\n",
      "[23,] 205.1739\n",
      "[24,] 347.9820\n",
      "[25,] 312.2800\n"
     ]
    }
   ],
   "source": [
    "print(H %*% Y)"
   ]
  },
  {
   "cell_type": "markdown",
   "id": "1993c4b3",
   "metadata": {},
   "source": [
    "## Residual"
   ]
  },
  {
   "cell_type": "code",
   "execution_count": 11,
   "id": "d1223dd5",
   "metadata": {},
   "outputs": [
    {
     "data": {
      "text/html": [
       "<table>\n",
       "<tbody>\n",
       "\t<tr><td> 51.0179798</td></tr>\n",
       "\t<tr><td>-48.4719192</td></tr>\n",
       "\t<tr><td>-19.8759596</td></tr>\n",
       "\t<tr><td> -7.6840404</td></tr>\n",
       "\t<tr><td> 48.7200000</td></tr>\n",
       "\t<tr><td>-52.5779798</td></tr>\n",
       "\t<tr><td> 55.2098990</td></tr>\n",
       "\t<tr><td>  4.0179798</td></tr>\n",
       "\t<tr><td>-66.3860606</td></tr>\n",
       "\t<tr><td>-83.8759596</td></tr>\n",
       "\t<tr><td>-45.1739394</td></tr>\n",
       "\t<tr><td>-60.2800000</td></tr>\n",
       "\t<tr><td>  5.3159596</td></tr>\n",
       "\t<tr><td>-20.7698990</td></tr>\n",
       "\t<tr><td>-20.0880808</td></tr>\n",
       "\t<tr><td>  0.6139394</td></tr>\n",
       "\t<tr><td> 42.5280808</td></tr>\n",
       "\t<tr><td> 27.1240404</td></tr>\n",
       "\t<tr><td> -6.6840404</td></tr>\n",
       "\t<tr><td>-34.0880808</td></tr>\n",
       "\t<tr><td>103.5280808</td></tr>\n",
       "\t<tr><td> 84.3159596</td></tr>\n",
       "\t<tr><td> 38.8260606</td></tr>\n",
       "\t<tr><td> -5.9820202</td></tr>\n",
       "\t<tr><td> 10.7200000</td></tr>\n",
       "</tbody>\n",
       "</table>\n"
      ],
      "text/latex": [
       "\\begin{tabular}{l}\n",
       "\t  51.0179798\\\\\n",
       "\t -48.4719192\\\\\n",
       "\t -19.8759596\\\\\n",
       "\t  -7.6840404\\\\\n",
       "\t  48.7200000\\\\\n",
       "\t -52.5779798\\\\\n",
       "\t  55.2098990\\\\\n",
       "\t   4.0179798\\\\\n",
       "\t -66.3860606\\\\\n",
       "\t -83.8759596\\\\\n",
       "\t -45.1739394\\\\\n",
       "\t -60.2800000\\\\\n",
       "\t   5.3159596\\\\\n",
       "\t -20.7698990\\\\\n",
       "\t -20.0880808\\\\\n",
       "\t   0.6139394\\\\\n",
       "\t  42.5280808\\\\\n",
       "\t  27.1240404\\\\\n",
       "\t  -6.6840404\\\\\n",
       "\t -34.0880808\\\\\n",
       "\t 103.5280808\\\\\n",
       "\t  84.3159596\\\\\n",
       "\t  38.8260606\\\\\n",
       "\t  -5.9820202\\\\\n",
       "\t  10.7200000\\\\\n",
       "\\end{tabular}\n"
      ],
      "text/markdown": [
       "\n",
       "|  51.0179798 |\n",
       "| -48.4719192 |\n",
       "| -19.8759596 |\n",
       "|  -7.6840404 |\n",
       "|  48.7200000 |\n",
       "| -52.5779798 |\n",
       "|  55.2098990 |\n",
       "|   4.0179798 |\n",
       "| -66.3860606 |\n",
       "| -83.8759596 |\n",
       "| -45.1739394 |\n",
       "| -60.2800000 |\n",
       "|   5.3159596 |\n",
       "| -20.7698990 |\n",
       "| -20.0880808 |\n",
       "|   0.6139394 |\n",
       "|  42.5280808 |\n",
       "|  27.1240404 |\n",
       "|  -6.6840404 |\n",
       "| -34.0880808 |\n",
       "| 103.5280808 |\n",
       "|  84.3159596 |\n",
       "|  38.8260606 |\n",
       "|  -5.9820202 |\n",
       "|  10.7200000 |\n",
       "\n"
      ],
      "text/plain": [
       "      [,1]       \n",
       " [1,]  51.0179798\n",
       " [2,] -48.4719192\n",
       " [3,] -19.8759596\n",
       " [4,]  -7.6840404\n",
       " [5,]  48.7200000\n",
       " [6,] -52.5779798\n",
       " [7,]  55.2098990\n",
       " [8,]   4.0179798\n",
       " [9,] -66.3860606\n",
       "[10,] -83.8759596\n",
       "[11,] -45.1739394\n",
       "[12,] -60.2800000\n",
       "[13,]   5.3159596\n",
       "[14,] -20.7698990\n",
       "[15,] -20.0880808\n",
       "[16,]   0.6139394\n",
       "[17,]  42.5280808\n",
       "[18,]  27.1240404\n",
       "[19,]  -6.6840404\n",
       "[20,] -34.0880808\n",
       "[21,] 103.5280808\n",
       "[22,]  84.3159596\n",
       "[23,]  38.8260606\n",
       "[24,]  -5.9820202\n",
       "[25,]  10.7200000"
      ]
     },
     "metadata": {},
     "output_type": "display_data"
    }
   ],
   "source": [
    "redsidual= Y - X %*% b\n",
    "redsidual"
   ]
  },
  {
   "cell_type": "code",
   "execution_count": 14,
   "id": "4c6aa875",
   "metadata": {},
   "outputs": [
    {
     "data": {
      "text/html": [
       "<table>\n",
       "<tbody>\n",
       "\t<tr><td> 51.0179798</td></tr>\n",
       "\t<tr><td>-48.4719192</td></tr>\n",
       "\t<tr><td>-19.8759596</td></tr>\n",
       "\t<tr><td> -7.6840404</td></tr>\n",
       "\t<tr><td> 48.7200000</td></tr>\n",
       "\t<tr><td>-52.5779798</td></tr>\n",
       "\t<tr><td> 55.2098990</td></tr>\n",
       "\t<tr><td>  4.0179798</td></tr>\n",
       "\t<tr><td>-66.3860606</td></tr>\n",
       "\t<tr><td>-83.8759596</td></tr>\n",
       "\t<tr><td>-45.1739394</td></tr>\n",
       "\t<tr><td>-60.2800000</td></tr>\n",
       "\t<tr><td>  5.3159596</td></tr>\n",
       "\t<tr><td>-20.7698990</td></tr>\n",
       "\t<tr><td>-20.0880808</td></tr>\n",
       "\t<tr><td>  0.6139394</td></tr>\n",
       "\t<tr><td> 42.5280808</td></tr>\n",
       "\t<tr><td> 27.1240404</td></tr>\n",
       "\t<tr><td> -6.6840404</td></tr>\n",
       "\t<tr><td>-34.0880808</td></tr>\n",
       "\t<tr><td>103.5280808</td></tr>\n",
       "\t<tr><td> 84.3159596</td></tr>\n",
       "\t<tr><td> 38.8260606</td></tr>\n",
       "\t<tr><td> -5.9820202</td></tr>\n",
       "\t<tr><td> 10.7200000</td></tr>\n",
       "</tbody>\n",
       "</table>\n"
      ],
      "text/latex": [
       "\\begin{tabular}{l}\n",
       "\t  51.0179798\\\\\n",
       "\t -48.4719192\\\\\n",
       "\t -19.8759596\\\\\n",
       "\t  -7.6840404\\\\\n",
       "\t  48.7200000\\\\\n",
       "\t -52.5779798\\\\\n",
       "\t  55.2098990\\\\\n",
       "\t   4.0179798\\\\\n",
       "\t -66.3860606\\\\\n",
       "\t -83.8759596\\\\\n",
       "\t -45.1739394\\\\\n",
       "\t -60.2800000\\\\\n",
       "\t   5.3159596\\\\\n",
       "\t -20.7698990\\\\\n",
       "\t -20.0880808\\\\\n",
       "\t   0.6139394\\\\\n",
       "\t  42.5280808\\\\\n",
       "\t  27.1240404\\\\\n",
       "\t  -6.6840404\\\\\n",
       "\t -34.0880808\\\\\n",
       "\t 103.5280808\\\\\n",
       "\t  84.3159596\\\\\n",
       "\t  38.8260606\\\\\n",
       "\t  -5.9820202\\\\\n",
       "\t  10.7200000\\\\\n",
       "\\end{tabular}\n"
      ],
      "text/markdown": [
       "\n",
       "|  51.0179798 |\n",
       "| -48.4719192 |\n",
       "| -19.8759596 |\n",
       "|  -7.6840404 |\n",
       "|  48.7200000 |\n",
       "| -52.5779798 |\n",
       "|  55.2098990 |\n",
       "|   4.0179798 |\n",
       "| -66.3860606 |\n",
       "| -83.8759596 |\n",
       "| -45.1739394 |\n",
       "| -60.2800000 |\n",
       "|   5.3159596 |\n",
       "| -20.7698990 |\n",
       "| -20.0880808 |\n",
       "|   0.6139394 |\n",
       "|  42.5280808 |\n",
       "|  27.1240404 |\n",
       "|  -6.6840404 |\n",
       "| -34.0880808 |\n",
       "| 103.5280808 |\n",
       "|  84.3159596 |\n",
       "|  38.8260606 |\n",
       "|  -5.9820202 |\n",
       "|  10.7200000 |\n",
       "\n"
      ],
      "text/plain": [
       "      [,1]       \n",
       " [1,]  51.0179798\n",
       " [2,] -48.4719192\n",
       " [3,] -19.8759596\n",
       " [4,]  -7.6840404\n",
       " [5,]  48.7200000\n",
       " [6,] -52.5779798\n",
       " [7,]  55.2098990\n",
       " [8,]   4.0179798\n",
       " [9,] -66.3860606\n",
       "[10,] -83.8759596\n",
       "[11,] -45.1739394\n",
       "[12,] -60.2800000\n",
       "[13,]   5.3159596\n",
       "[14,] -20.7698990\n",
       "[15,] -20.0880808\n",
       "[16,]   0.6139394\n",
       "[17,]  42.5280808\n",
       "[18,]  27.1240404\n",
       "[19,]  -6.6840404\n",
       "[20,] -34.0880808\n",
       "[21,] 103.5280808\n",
       "[22,]  84.3159596\n",
       "[23,]  38.8260606\n",
       "[24,]  -5.9820202\n",
       "[25,]  10.7200000"
      ]
     },
     "metadata": {},
     "output_type": "display_data"
    }
   ],
   "source": [
    "e = Y - Y_hat\n",
    "e"
   ]
  },
  {
   "cell_type": "markdown",
   "id": "0e1b04cb",
   "metadata": {},
   "source": [
    "# Example p.203"
   ]
  },
  {
   "cell_type": "code",
   "execution_count": 13,
   "id": "bd9e6ff1",
   "metadata": {},
   "outputs": [
    {
     "data": {
      "text/html": [
       "<table>\n",
       "<thead><tr><th></th><th scope=col>(Intercept)</th><th scope=col>data$lotSize</th></tr></thead>\n",
       "<tbody>\n",
       "\t<tr><th scope=row>(Intercept)</th><td>685.258045</td><td>-8.4272774</td></tr>\n",
       "\t<tr><th scope=row>data$lotSize</th><td> -8.427277</td><td> 0.1203897</td></tr>\n",
       "</tbody>\n",
       "</table>\n"
      ],
      "text/latex": [
       "\\begin{tabular}{r|ll}\n",
       "  & (Intercept) & data\\$lotSize\\\\\n",
       "\\hline\n",
       "\t(Intercept) & 685.258045 & -8.4272774\\\\\n",
       "\tdata\\$lotSize &  -8.427277 &  0.1203897\\\\\n",
       "\\end{tabular}\n"
      ],
      "text/markdown": [
       "\n",
       "| <!--/--> | (Intercept) | data$lotSize |\n",
       "|---|---|---|\n",
       "| (Intercept) | 685.258045 | -8.4272774 |\n",
       "| data$lotSize |  -8.427277 |  0.1203897 |\n",
       "\n"
      ],
      "text/plain": [
       "             (Intercept) data$lotSize\n",
       "(Intercept)  685.258045  -8.4272774  \n",
       "data$lotSize  -8.427277   0.1203897  "
      ]
     },
     "metadata": {},
     "output_type": "display_data"
    }
   ],
   "source": [
    "vcov(summary(model))"
   ]
  },
  {
   "cell_type": "code",
   "execution_count": null,
   "id": "e0787378",
   "metadata": {},
   "outputs": [],
   "source": []
  }
 ],
 "metadata": {
  "kernelspec": {
   "display_name": "R",
   "language": "R",
   "name": "ir"
  },
  "language_info": {
   "codemirror_mode": "r",
   "file_extension": ".r",
   "mimetype": "text/x-r-source",
   "name": "R",
   "pygments_lexer": "r",
   "version": "3.6.1"
  }
 },
 "nbformat": 4,
 "nbformat_minor": 5
}
