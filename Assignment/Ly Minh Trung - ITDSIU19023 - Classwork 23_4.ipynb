{
 "cells": [
  {
   "cell_type": "code",
   "execution_count": 2,
   "id": "1cbee818",
   "metadata": {},
   "outputs": [],
   "source": [
    "bdf = read.table('CH07TA01_bodyfat.txt', header=F)"
   ]
  },
  {
   "cell_type": "code",
   "execution_count": 4,
   "id": "264eb079",
   "metadata": {},
   "outputs": [
    {
     "data": {
      "text/html": [
       "<table>\n",
       "<thead><tr><th scope=col>V1</th><th scope=col>V2</th><th scope=col>V3</th><th scope=col>V4</th></tr></thead>\n",
       "<tbody>\n",
       "\t<tr><td>19.5</td><td>43.1</td><td>29.1</td><td>11.9</td></tr>\n",
       "\t<tr><td>24.7</td><td>49.8</td><td>28.2</td><td>22.8</td></tr>\n",
       "\t<tr><td>30.7</td><td>51.9</td><td>37.0</td><td>18.7</td></tr>\n",
       "\t<tr><td>29.8</td><td>54.3</td><td>31.1</td><td>20.1</td></tr>\n",
       "\t<tr><td>19.1</td><td>42.2</td><td>30.9</td><td>12.9</td></tr>\n",
       "\t<tr><td>25.6</td><td>53.9</td><td>23.7</td><td>21.7</td></tr>\n",
       "</tbody>\n",
       "</table>\n"
      ],
      "text/latex": [
       "\\begin{tabular}{r|llll}\n",
       " V1 & V2 & V3 & V4\\\\\n",
       "\\hline\n",
       "\t 19.5 & 43.1 & 29.1 & 11.9\\\\\n",
       "\t 24.7 & 49.8 & 28.2 & 22.8\\\\\n",
       "\t 30.7 & 51.9 & 37.0 & 18.7\\\\\n",
       "\t 29.8 & 54.3 & 31.1 & 20.1\\\\\n",
       "\t 19.1 & 42.2 & 30.9 & 12.9\\\\\n",
       "\t 25.6 & 53.9 & 23.7 & 21.7\\\\\n",
       "\\end{tabular}\n"
      ],
      "text/markdown": [
       "\n",
       "| V1 | V2 | V3 | V4 |\n",
       "|---|---|---|---|\n",
       "| 19.5 | 43.1 | 29.1 | 11.9 |\n",
       "| 24.7 | 49.8 | 28.2 | 22.8 |\n",
       "| 30.7 | 51.9 | 37.0 | 18.7 |\n",
       "| 29.8 | 54.3 | 31.1 | 20.1 |\n",
       "| 19.1 | 42.2 | 30.9 | 12.9 |\n",
       "| 25.6 | 53.9 | 23.7 | 21.7 |\n",
       "\n"
      ],
      "text/plain": [
       "  V1   V2   V3   V4  \n",
       "1 19.5 43.1 29.1 11.9\n",
       "2 24.7 49.8 28.2 22.8\n",
       "3 30.7 51.9 37.0 18.7\n",
       "4 29.8 54.3 31.1 20.1\n",
       "5 19.1 42.2 30.9 12.9\n",
       "6 25.6 53.9 23.7 21.7"
      ]
     },
     "metadata": {},
     "output_type": "display_data"
    }
   ],
   "source": [
    "head(bdf)"
   ]
  },
  {
   "cell_type": "code",
   "execution_count": 7,
   "id": "1b1e7708",
   "metadata": {},
   "outputs": [
    {
     "data": {
      "text/html": [
       "<table>\n",
       "<thead><tr><th scope=col>X1</th><th scope=col>X2</th><th scope=col>X3</th><th scope=col>Y</th></tr></thead>\n",
       "<tbody>\n",
       "\t<tr><td>19.5</td><td>43.1</td><td>29.1</td><td>11.9</td></tr>\n",
       "\t<tr><td>24.7</td><td>49.8</td><td>28.2</td><td>22.8</td></tr>\n",
       "\t<tr><td>30.7</td><td>51.9</td><td>37.0</td><td>18.7</td></tr>\n",
       "\t<tr><td>29.8</td><td>54.3</td><td>31.1</td><td>20.1</td></tr>\n",
       "\t<tr><td>19.1</td><td>42.2</td><td>30.9</td><td>12.9</td></tr>\n",
       "\t<tr><td>25.6</td><td>53.9</td><td>23.7</td><td>21.7</td></tr>\n",
       "</tbody>\n",
       "</table>\n"
      ],
      "text/latex": [
       "\\begin{tabular}{r|llll}\n",
       " X1 & X2 & X3 & Y\\\\\n",
       "\\hline\n",
       "\t 19.5 & 43.1 & 29.1 & 11.9\\\\\n",
       "\t 24.7 & 49.8 & 28.2 & 22.8\\\\\n",
       "\t 30.7 & 51.9 & 37.0 & 18.7\\\\\n",
       "\t 29.8 & 54.3 & 31.1 & 20.1\\\\\n",
       "\t 19.1 & 42.2 & 30.9 & 12.9\\\\\n",
       "\t 25.6 & 53.9 & 23.7 & 21.7\\\\\n",
       "\\end{tabular}\n"
      ],
      "text/markdown": [
       "\n",
       "| X1 | X2 | X3 | Y |\n",
       "|---|---|---|---|\n",
       "| 19.5 | 43.1 | 29.1 | 11.9 |\n",
       "| 24.7 | 49.8 | 28.2 | 22.8 |\n",
       "| 30.7 | 51.9 | 37.0 | 18.7 |\n",
       "| 29.8 | 54.3 | 31.1 | 20.1 |\n",
       "| 19.1 | 42.2 | 30.9 | 12.9 |\n",
       "| 25.6 | 53.9 | 23.7 | 21.7 |\n",
       "\n"
      ],
      "text/plain": [
       "  X1   X2   X3   Y   \n",
       "1 19.5 43.1 29.1 11.9\n",
       "2 24.7 49.8 28.2 22.8\n",
       "3 30.7 51.9 37.0 18.7\n",
       "4 29.8 54.3 31.1 20.1\n",
       "5 19.1 42.2 30.9 12.9\n",
       "6 25.6 53.9 23.7 21.7"
      ]
     },
     "metadata": {},
     "output_type": "display_data"
    }
   ],
   "source": [
    "colnames(bdf) = c(\"X1\", \"X2\", \"X3\", \"Y\") \n",
    "head(bdf)"
   ]
  },
  {
   "cell_type": "code",
   "execution_count": 8,
   "id": "4407b03f",
   "metadata": {},
   "outputs": [],
   "source": [
    "attach(bdf)"
   ]
  },
  {
   "cell_type": "code",
   "execution_count": 11,
   "id": "2d1ac115",
   "metadata": {},
   "outputs": [
    {
     "data": {
      "text/plain": [
       "\n",
       "Call:\n",
       "lm(formula = Y ~ X1)\n",
       "\n",
       "Residuals:\n",
       "    Min      1Q  Median      3Q     Max \n",
       "-6.1195 -2.1904  0.6735  1.9383  3.8523 \n",
       "\n",
       "Coefficients:\n",
       "            Estimate Std. Error t value Pr(>|t|)    \n",
       "(Intercept)  -1.4961     3.3192  -0.451    0.658    \n",
       "X1            0.8572     0.1288   6.656 3.02e-06 ***\n",
       "---\n",
       "Signif. codes:  0 '***' 0.001 '**' 0.01 '*' 0.05 '.' 0.1 ' ' 1\n",
       "\n",
       "Residual standard error: 2.82 on 18 degrees of freedom\n",
       "Multiple R-squared:  0.7111,\tAdjusted R-squared:  0.695 \n",
       "F-statistic:  44.3 on 1 and 18 DF,  p-value: 3.024e-06\n"
      ]
     },
     "metadata": {},
     "output_type": "display_data"
    }
   ],
   "source": [
    "model1 = lm(Y~X1)\n",
    "summary(model1)"
   ]
  },
  {
   "cell_type": "code",
   "execution_count": 12,
   "id": "dade75f8",
   "metadata": {},
   "outputs": [
    {
     "data": {
      "text/html": [
       "<table>\n",
       "<thead><tr><th></th><th scope=col>Df</th><th scope=col>Sum Sq</th><th scope=col>Mean Sq</th><th scope=col>F value</th><th scope=col>Pr(&gt;F)</th></tr></thead>\n",
       "<tbody>\n",
       "\t<tr><th scope=row>X1</th><td> 1          </td><td>352.2698    </td><td>352.269797  </td><td>44.30457    </td><td>3.024349e-06</td></tr>\n",
       "\t<tr><th scope=row>Residuals</th><td>18          </td><td>143.1197    </td><td>  7.951095  </td><td>      NA    </td><td>          NA</td></tr>\n",
       "</tbody>\n",
       "</table>\n"
      ],
      "text/latex": [
       "\\begin{tabular}{r|lllll}\n",
       "  & Df & Sum Sq & Mean Sq & F value & Pr(>F)\\\\\n",
       "\\hline\n",
       "\tX1 &  1           & 352.2698     & 352.269797   & 44.30457     & 3.024349e-06\\\\\n",
       "\tResiduals & 18           & 143.1197     &   7.951095   &       NA     &           NA\\\\\n",
       "\\end{tabular}\n"
      ],
      "text/markdown": [
       "\n",
       "| <!--/--> | Df | Sum Sq | Mean Sq | F value | Pr(>F) |\n",
       "|---|---|---|---|---|---|\n",
       "| X1 |  1           | 352.2698     | 352.269797   | 44.30457     | 3.024349e-06 |\n",
       "| Residuals | 18           | 143.1197     |   7.951095   |       NA     |           NA |\n",
       "\n"
      ],
      "text/plain": [
       "          Df Sum Sq   Mean Sq    F value  Pr(>F)      \n",
       "X1         1 352.2698 352.269797 44.30457 3.024349e-06\n",
       "Residuals 18 143.1197   7.951095       NA           NA"
      ]
     },
     "metadata": {},
     "output_type": "display_data"
    }
   ],
   "source": [
    "anova(model1)"
   ]
  },
  {
   "cell_type": "code",
   "execution_count": 14,
   "id": "bb7b2d99",
   "metadata": {},
   "outputs": [
    {
     "data": {
      "text/html": [
       "352.269796831964"
      ],
      "text/latex": [
       "352.269796831964"
      ],
      "text/markdown": [
       "352.269796831964"
      ],
      "text/plain": [
       "[1] 352.2698"
      ]
     },
     "metadata": {},
     "output_type": "display_data"
    },
    {
     "data": {
      "text/html": [
       "495.389496831964"
      ],
      "text/latex": [
       "495.389496831964"
      ],
      "text/markdown": [
       "495.389496831964"
      ],
      "text/plain": [
       "[1] 495.3895"
      ]
     },
     "metadata": {},
     "output_type": "display_data"
    }
   ],
   "source": [
    "SSE1 = 143.1197\n",
    "MSE1 = 7.951095\n",
    "SSR1 = sum((fitted(model) - mean(Y))^2)\n",
    "SSR1\n",
    "SSTO = SSR1 + SSE1\n",
    "SSTO"
   ]
  },
  {
   "cell_type": "code",
   "execution_count": 15,
   "id": "8b52b717",
   "metadata": {},
   "outputs": [
    {
     "data": {
      "text/plain": [
       "\n",
       "Call:\n",
       "lm(formula = Y ~ X1 + X2)\n",
       "\n",
       "Residuals:\n",
       "    Min      1Q  Median      3Q     Max \n",
       "-3.9469 -1.8807  0.1678  1.3367  4.0147 \n",
       "\n",
       "Coefficients:\n",
       "            Estimate Std. Error t value Pr(>|t|)  \n",
       "(Intercept) -19.1742     8.3606  -2.293   0.0348 *\n",
       "X1            0.2224     0.3034   0.733   0.4737  \n",
       "X2            0.6594     0.2912   2.265   0.0369 *\n",
       "---\n",
       "Signif. codes:  0 '***' 0.001 '**' 0.01 '*' 0.05 '.' 0.1 ' ' 1\n",
       "\n",
       "Residual standard error: 2.543 on 17 degrees of freedom\n",
       "Multiple R-squared:  0.7781,\tAdjusted R-squared:  0.7519 \n",
       "F-statistic:  29.8 on 2 and 17 DF,  p-value: 2.774e-06\n"
      ]
     },
     "metadata": {},
     "output_type": "display_data"
    }
   ],
   "source": [
    "model2 = lm(Y ~ X1+X2)\n",
    "summary(model2)"
   ]
  },
  {
   "cell_type": "code",
   "execution_count": 16,
   "id": "84447f7e",
   "metadata": {},
   "outputs": [
    {
     "data": {
      "text/html": [
       "<table>\n",
       "<thead><tr><th></th><th scope=col>Df</th><th scope=col>Sum Sq</th><th scope=col>Mean Sq</th><th scope=col>F value</th><th scope=col>Pr(&gt;F)</th></tr></thead>\n",
       "<tbody>\n",
       "\t<tr><th scope=row>X1</th><td> 1          </td><td>352.26980   </td><td>352.269797  </td><td>54.466062   </td><td>1.074970e-06</td></tr>\n",
       "\t<tr><th scope=row>X2</th><td> 1          </td><td> 33.16891   </td><td> 33.168913  </td><td> 5.128399   </td><td>3.689872e-02</td></tr>\n",
       "\t<tr><th scope=row>Residuals</th><td>17          </td><td>109.95079   </td><td>  6.467694  </td><td>       NA   </td><td>          NA</td></tr>\n",
       "</tbody>\n",
       "</table>\n"
      ],
      "text/latex": [
       "\\begin{tabular}{r|lllll}\n",
       "  & Df & Sum Sq & Mean Sq & F value & Pr(>F)\\\\\n",
       "\\hline\n",
       "\tX1 &  1           & 352.26980    & 352.269797   & 54.466062    & 1.074970e-06\\\\\n",
       "\tX2 &  1           &  33.16891    &  33.168913   &  5.128399    & 3.689872e-02\\\\\n",
       "\tResiduals & 17           & 109.95079    &   6.467694   &        NA    &           NA\\\\\n",
       "\\end{tabular}\n"
      ],
      "text/markdown": [
       "\n",
       "| <!--/--> | Df | Sum Sq | Mean Sq | F value | Pr(>F) |\n",
       "|---|---|---|---|---|---|\n",
       "| X1 |  1           | 352.26980    | 352.269797   | 54.466062    | 1.074970e-06 |\n",
       "| X2 |  1           |  33.16891    |  33.168913   |  5.128399    | 3.689872e-02 |\n",
       "| Residuals | 17           | 109.95079    |   6.467694   |        NA    |           NA |\n",
       "\n"
      ],
      "text/plain": [
       "          Df Sum Sq    Mean Sq    F value   Pr(>F)      \n",
       "X1         1 352.26980 352.269797 54.466062 1.074970e-06\n",
       "X2         1  33.16891  33.168913  5.128399 3.689872e-02\n",
       "Residuals 17 109.95079   6.467694        NA           NA"
      ]
     },
     "metadata": {},
     "output_type": "display_data"
    }
   ],
   "source": [
    "anova(model2)"
   ]
  },
  {
   "cell_type": "code",
   "execution_count": 22,
   "id": "5912c8d2",
   "metadata": {},
   "outputs": [
    {
     "data": {
      "text/html": [
       "385.438709665819"
      ],
      "text/latex": [
       "385.438709665819"
      ],
      "text/markdown": [
       "385.438709665819"
      ],
      "text/plain": [
       "[1] 385.4387"
      ]
     },
     "metadata": {},
     "output_type": "display_data"
    }
   ],
   "source": [
    "SSE12 = 109.95079\n",
    "SSR12 = sum((fitted(model2) - mean(Y))^2)\n",
    "SSR12"
   ]
  },
  {
   "cell_type": "code",
   "execution_count": 23,
   "id": "95c19b23",
   "metadata": {},
   "outputs": [
    {
     "data": {
      "text/html": [
       "33.16891"
      ],
      "text/latex": [
       "33.16891"
      ],
      "text/markdown": [
       "33.16891"
      ],
      "text/plain": [
       "[1] 33.16891"
      ]
     },
     "metadata": {},
     "output_type": "display_data"
    }
   ],
   "source": [
    "ExtraSSE2 = SSE1 - SSE12\n",
    "ExtraSSE2"
   ]
  },
  {
   "cell_type": "code",
   "execution_count": 24,
   "id": "96fcbf03",
   "metadata": {},
   "outputs": [
    {
     "data": {
      "text/html": [
       "33.1689128338555"
      ],
      "text/latex": [
       "33.1689128338555"
      ],
      "text/markdown": [
       "33.1689128338555"
      ],
      "text/plain": [
       "[1] 33.16891"
      ]
     },
     "metadata": {},
     "output_type": "display_data"
    }
   ],
   "source": [
    "(SSR12 - SSR1)"
   ]
  },
  {
   "cell_type": "code",
   "execution_count": 25,
   "id": "fa616ac7",
   "metadata": {},
   "outputs": [
    {
     "data": {
      "text/plain": [
       "\n",
       "Call:\n",
       "lm(formula = Y ~ X1 + X2 + X3)\n",
       "\n",
       "Residuals:\n",
       "    Min      1Q  Median      3Q     Max \n",
       "-3.7263 -1.6111  0.3923  1.4656  4.1277 \n",
       "\n",
       "Coefficients:\n",
       "            Estimate Std. Error t value Pr(>|t|)\n",
       "(Intercept)  117.085     99.782   1.173    0.258\n",
       "X1             4.334      3.016   1.437    0.170\n",
       "X2            -2.857      2.582  -1.106    0.285\n",
       "X3            -2.186      1.595  -1.370    0.190\n",
       "\n",
       "Residual standard error: 2.48 on 16 degrees of freedom\n",
       "Multiple R-squared:  0.8014,\tAdjusted R-squared:  0.7641 \n",
       "F-statistic: 21.52 on 3 and 16 DF,  p-value: 7.343e-06\n"
      ]
     },
     "metadata": {},
     "output_type": "display_data"
    }
   ],
   "source": [
    "model123 = lm(Y~X1+X2+X3)\n",
    "summary(model123)"
   ]
  },
  {
   "cell_type": "code",
   "execution_count": 26,
   "id": "e9c2be88",
   "metadata": {},
   "outputs": [
    {
     "data": {
      "text/html": [
       "<table>\n",
       "<thead><tr><th></th><th scope=col>Df</th><th scope=col>Sum Sq</th><th scope=col>Mean Sq</th><th scope=col>F value</th><th scope=col>Pr(&gt;F)</th></tr></thead>\n",
       "<tbody>\n",
       "\t<tr><th scope=row>X1</th><td> 1          </td><td>352.26980   </td><td>352.269797  </td><td>57.276796   </td><td>1.130571e-06</td></tr>\n",
       "\t<tr><th scope=row>X2</th><td> 1          </td><td> 33.16891   </td><td> 33.168913  </td><td> 5.393051   </td><td>3.373192e-02</td></tr>\n",
       "\t<tr><th scope=row>X3</th><td> 1          </td><td> 11.54590   </td><td> 11.545902  </td><td> 1.877289   </td><td>1.895628e-01</td></tr>\n",
       "\t<tr><th scope=row>Residuals</th><td>16          </td><td> 98.40489   </td><td>  6.150306  </td><td>       NA   </td><td>          NA</td></tr>\n",
       "</tbody>\n",
       "</table>\n"
      ],
      "text/latex": [
       "\\begin{tabular}{r|lllll}\n",
       "  & Df & Sum Sq & Mean Sq & F value & Pr(>F)\\\\\n",
       "\\hline\n",
       "\tX1 &  1           & 352.26980    & 352.269797   & 57.276796    & 1.130571e-06\\\\\n",
       "\tX2 &  1           &  33.16891    &  33.168913   &  5.393051    & 3.373192e-02\\\\\n",
       "\tX3 &  1           &  11.54590    &  11.545902   &  1.877289    & 1.895628e-01\\\\\n",
       "\tResiduals & 16           &  98.40489    &   6.150306   &        NA    &           NA\\\\\n",
       "\\end{tabular}\n"
      ],
      "text/markdown": [
       "\n",
       "| <!--/--> | Df | Sum Sq | Mean Sq | F value | Pr(>F) |\n",
       "|---|---|---|---|---|---|\n",
       "| X1 |  1           | 352.26980    | 352.269797   | 57.276796    | 1.130571e-06 |\n",
       "| X2 |  1           |  33.16891    |  33.168913   |  5.393051    | 3.373192e-02 |\n",
       "| X3 |  1           |  11.54590    |  11.545902   |  1.877289    | 1.895628e-01 |\n",
       "| Residuals | 16           |  98.40489    |   6.150306   |        NA    |           NA |\n",
       "\n"
      ],
      "text/plain": [
       "          Df Sum Sq    Mean Sq    F value   Pr(>F)      \n",
       "X1         1 352.26980 352.269797 57.276796 1.130571e-06\n",
       "X2         1  33.16891  33.168913  5.393051 3.373192e-02\n",
       "X3         1  11.54590  11.545902  1.877289 1.895628e-01\n",
       "Residuals 16  98.40489   6.150306        NA           NA"
      ]
     },
     "metadata": {},
     "output_type": "display_data"
    }
   ],
   "source": [
    "anova(model123)"
   ]
  },
  {
   "cell_type": "code",
   "execution_count": 27,
   "id": "6359d8a6",
   "metadata": {},
   "outputs": [
    {
     "data": {
      "text/html": [
       "396.984611832434"
      ],
      "text/latex": [
       "396.984611832434"
      ],
      "text/markdown": [
       "396.984611832434"
      ],
      "text/plain": [
       "[1] 396.9846"
      ]
     },
     "metadata": {},
     "output_type": "display_data"
    }
   ],
   "source": [
    "SSE123 = 98.40489\n",
    "SSR123 = sum((fitted(model123) - mean(Y))^2)\n",
    "SSR123"
   ]
  },
  {
   "cell_type": "code",
   "execution_count": 28,
   "id": "9dc04bbb",
   "metadata": {},
   "outputs": [
    {
     "data": {
      "text/html": [
       "11.5459"
      ],
      "text/latex": [
       "11.5459"
      ],
      "text/markdown": [
       "11.5459"
      ],
      "text/plain": [
       "[1] 11.5459"
      ]
     },
     "metadata": {},
     "output_type": "display_data"
    }
   ],
   "source": [
    "ExtraSSE3 = SSE12 - SSE123\n",
    "ExtraSSE3"
   ]
  },
  {
   "cell_type": "code",
   "execution_count": 29,
   "id": "402be59d",
   "metadata": {},
   "outputs": [
    {
     "data": {
      "text/html": [
       "1.87728882172421"
      ],
      "text/latex": [
       "1.87728882172421"
      ],
      "text/markdown": [
       "1.87728882172421"
      ],
      "text/plain": [
       "[1] 1.877289"
      ]
     },
     "metadata": {},
     "output_type": "display_data"
    }
   ],
   "source": [
    "F = ExtraSSE3 / (SSE123 / 16)\n",
    "F"
   ]
  },
  {
   "cell_type": "code",
   "execution_count": 32,
   "id": "fcdf102b",
   "metadata": {},
   "outputs": [
    {
     "data": {
      "text/html": [
       "8.53096528589619"
      ],
      "text/latex": [
       "8.53096528589619"
      ],
      "text/markdown": [
       "8.53096528589619"
      ],
      "text/plain": [
       "[1] 8.530965"
      ]
     },
     "metadata": {},
     "output_type": "display_data"
    }
   ],
   "source": [
    "threshold = qf(0.99, 1, 16) #alpha = 0.01\n",
    "threshold"
   ]
  },
  {
   "cell_type": "code",
   "execution_count": 33,
   "id": "866b9668",
   "metadata": {},
   "outputs": [
    {
     "data": {
      "text/html": [
       "4.49399847766636"
      ],
      "text/latex": [
       "4.49399847766636"
      ],
      "text/markdown": [
       "4.49399847766636"
      ],
      "text/plain": [
       "[1] 4.493998"
      ]
     },
     "metadata": {},
     "output_type": "display_data"
    }
   ],
   "source": [
    "threshold2 = qf(0.95, 1, 16) #alpha = 0.05\n",
    "threshold2"
   ]
  },
  {
   "cell_type": "code",
   "execution_count": 34,
   "id": "f0f6716c",
   "metadata": {},
   "outputs": [
    {
     "data": {
      "text/html": [
       "0.189561641935696"
      ],
      "text/latex": [
       "0.189561641935696"
      ],
      "text/markdown": [
       "0.189561641935696"
      ],
      "text/plain": [
       "[1] 0.1895616"
      ]
     },
     "metadata": {},
     "output_type": "display_data"
    }
   ],
   "source": [
    "p_value3 = 1- pf(1.8773, 1, 16)\n",
    "p_value3"
   ]
  },
  {
   "cell_type": "code",
   "execution_count": 35,
   "id": "5d6d9983",
   "metadata": {},
   "outputs": [],
   "source": [
    "insu = read.table('CH08TA02_InsuranceInnovation.txt', header=F)"
   ]
  },
  {
   "cell_type": "code",
   "execution_count": 36,
   "id": "6290cb8c",
   "metadata": {},
   "outputs": [
    {
     "data": {
      "text/html": [
       "<table>\n",
       "<thead><tr><th scope=col>Y</th><th scope=col>X1</th><th scope=col>X2</th></tr></thead>\n",
       "<tbody>\n",
       "\t<tr><td>26 </td><td> 92</td><td>0  </td></tr>\n",
       "\t<tr><td>21 </td><td>175</td><td>0  </td></tr>\n",
       "\t<tr><td>30 </td><td> 31</td><td>0  </td></tr>\n",
       "\t<tr><td>22 </td><td>104</td><td>0  </td></tr>\n",
       "\t<tr><td> 0 </td><td>277</td><td>0  </td></tr>\n",
       "\t<tr><td>12 </td><td>210</td><td>0  </td></tr>\n",
       "</tbody>\n",
       "</table>\n"
      ],
      "text/latex": [
       "\\begin{tabular}{r|lll}\n",
       " Y & X1 & X2\\\\\n",
       "\\hline\n",
       "\t 26  &  92 & 0  \\\\\n",
       "\t 21  & 175 & 0  \\\\\n",
       "\t 30  &  31 & 0  \\\\\n",
       "\t 22  & 104 & 0  \\\\\n",
       "\t  0  & 277 & 0  \\\\\n",
       "\t 12  & 210 & 0  \\\\\n",
       "\\end{tabular}\n"
      ],
      "text/markdown": [
       "\n",
       "| Y | X1 | X2 |\n",
       "|---|---|---|\n",
       "| 26  |  92 | 0   |\n",
       "| 21  | 175 | 0   |\n",
       "| 30  |  31 | 0   |\n",
       "| 22  | 104 | 0   |\n",
       "|  0  | 277 | 0   |\n",
       "| 12  | 210 | 0   |\n",
       "\n"
      ],
      "text/plain": [
       "  Y  X1  X2\n",
       "1 26  92 0 \n",
       "2 21 175 0 \n",
       "3 30  31 0 \n",
       "4 22 104 0 \n",
       "5  0 277 0 \n",
       "6 12 210 0 "
      ]
     },
     "metadata": {},
     "output_type": "display_data"
    }
   ],
   "source": [
    "colnames(insu) = c(\"Y\", \"X1\", \"X2\") \n",
    "head(insu)"
   ]
  },
  {
   "cell_type": "code",
   "execution_count": 74,
   "id": "31dabe51",
   "metadata": {},
   "outputs": [
    {
     "name": "stderr",
     "output_type": "stream",
     "text": [
      "The following objects are masked from insu (pos = 3):\n",
      "\n",
      "    X1, X2, Y\n",
      "\n",
      "The following objects are masked from bdf:\n",
      "\n",
      "    X1, X2, Y\n",
      "\n"
     ]
    }
   ],
   "source": [
    "attach(insu)"
   ]
  },
  {
   "cell_type": "code",
   "execution_count": 75,
   "id": "5197be9a",
   "metadata": {},
   "outputs": [
    {
     "data": {
      "text/plain": [
       "insu$X2: 0\n",
       "       Y               X1              X2   \n",
       " Min.   : 0.00   Min.   : 31.0   Min.   :0  \n",
       " 1st Qu.:12.00   1st Qu.:104.0   1st Qu.:0  \n",
       " Median :19.00   Median :175.0   Median :0  \n",
       " Mean   :16.67   Mean   :170.8   Mean   :0  \n",
       " 3rd Qu.:22.00   3rd Qu.:238.0   3rd Qu.:0  \n",
       " Max.   :30.00   Max.   :290.0   Max.   :0  \n",
       "------------------------------------------------------------ \n",
       "insu$X2: 1\n",
       "       Y               X1              X2   \n",
       " Min.   :11.00   Min.   : 68.0   Min.   :1  \n",
       " 1st Qu.:14.25   1st Qu.:134.0   1st Qu.:1  \n",
       " Median :20.50   Median :195.0   Median :1  \n",
       " Mean   :22.10   Mean   :194.9   Mean   :1  \n",
       " 3rd Qu.:29.50   3rd Qu.:265.5   3rd Qu.:1  \n",
       " Max.   :38.00   Max.   :305.0   Max.   :1  "
      ]
     },
     "metadata": {},
     "output_type": "display_data"
    }
   ],
   "source": [
    "by(insu, insu$X2, summary)"
   ]
  },
  {
   "cell_type": "code",
   "execution_count": 76,
   "id": "6833032b",
   "metadata": {},
   "outputs": [
    {
     "data": {
      "image/png": "[encoded data removed]",
      "text/plain": [
       "plot without title"
      ]
     },
     "metadata": {},
     "output_type": "display_data"
    }
   ],
   "source": [
    "boxplot(insu$Y ~ insu$X2)"
   ]
  },
  {
   "cell_type": "code",
   "execution_count": 77,
   "id": "13af8b54",
   "metadata": {},
   "outputs": [
    {
     "data": {
      "image/png": "[encoded data removed]",
      "text/plain": [
       "plot without title"
      ]
     },
     "metadata": {},
     "output_type": "display_data"
    }
   ],
   "source": [
    "plot(Y ~ X1, pch = as.character(X2))"
   ]
  },
  {
   "cell_type": "code",
   "execution_count": 78,
   "id": "38df188b",
   "metadata": {},
   "outputs": [
    {
     "data": {
      "text/plain": [
       "\n",
       "\tTwo Sample t-test\n",
       "\n",
       "data:  Y by X2\n",
       "t = -1.2445, df = 17, p-value = 0.2302\n",
       "alternative hypothesis: true difference in means is not equal to 0\n",
       "95 percent confidence interval:\n",
       " -14.644521   3.777854\n",
       "sample estimates:\n",
       "mean in group 0 mean in group 1 \n",
       "       16.66667        22.10000 \n"
      ]
     },
     "metadata": {},
     "output_type": "display_data"
    }
   ],
   "source": [
    "t.test(Y ~ X2, insu, var.equal = T)"
   ]
  },
  {
   "cell_type": "code",
   "execution_count": 79,
   "id": "d67efade",
   "metadata": {},
   "outputs": [
    {
     "data": {
      "text/plain": [
       "\n",
       "Call:\n",
       "lm(formula = Y ~ X1 + X2)\n",
       "\n",
       "Residuals:\n",
       "    Min      1Q  Median      3Q     Max \n",
       "-5.8351 -1.8913 -0.5095  1.9971  6.1880 \n",
       "\n",
       "Coefficients:\n",
       "             Estimate Std. Error t value Pr(>|t|)    \n",
       "(Intercept) 34.080949   1.904762  17.893 5.29e-12 ***\n",
       "X1          -0.101970   0.009111 -11.192 5.61e-09 ***\n",
       "X2           7.893086   1.530380   5.158 9.54e-05 ***\n",
       "---\n",
       "Signif. codes:  0 '***' 0.001 '**' 0.01 '*' 0.05 '.' 0.1 ' ' 1\n",
       "\n",
       "Residual standard error: 3.296 on 16 degrees of freedom\n",
       "Multiple R-squared:  0.8962,\tAdjusted R-squared:  0.8832 \n",
       "F-statistic: 69.07 on 2 and 16 DF,  p-value: 1.348e-08\n"
      ]
     },
     "metadata": {},
     "output_type": "display_data"
    }
   ],
   "source": [
    "model_insu = lm(Y ~ X1 + X2)\n",
    "summary(model_insu)"
   ]
  },
  {
   "cell_type": "code",
   "execution_count": 80,
   "id": "97852550",
   "metadata": {},
   "outputs": [
    {
     "data": {
      "image/png": "[encoded data removed]",
      "text/plain": [
       "plot without title"
      ]
     },
     "metadata": {},
     "output_type": "display_data"
    }
   ],
   "source": [
    "plot(Y ~ X1, pch = as.character(X2), insu)\n",
    "abline(34.080949, -0.101970)\n",
    "abline(34.080949 + 7.893086, -0.101970)"
   ]
  },
  {
   "cell_type": "code",
   "execution_count": 81,
   "id": "7a3ab7ba",
   "metadata": {},
   "outputs": [
    {
     "data": {
      "image/png": "[encoded data removed]",
      "text/plain": [
       "plot without title"
      ]
     },
     "metadata": {},
     "output_type": "display_data"
    }
   ],
   "source": [
    "plot(fitted(model_insu), resid(model_insu), pch = as.character(insu$X1),ylab = \"residual\")"
   ]
  },
  {
   "cell_type": "code",
   "execution_count": 82,
   "id": "09e9e2b4",
   "metadata": {},
   "outputs": [
    {
     "data": {
      "text/html": [
       "<table>\n",
       "<thead><tr><th></th><th scope=col>Df</th><th scope=col>Sum Sq</th><th scope=col>Mean Sq</th><th scope=col>F value</th><th scope=col>Pr(&gt;F)</th></tr></thead>\n",
       "<tbody>\n",
       "\t<tr><th scope=row>X1</th><td> 1          </td><td>1211.8707   </td><td>1211.87066  </td><td>111.53702   </td><td>1.278424e-08</td></tr>\n",
       "\t<tr><th scope=row>X2</th><td> 1          </td><td> 289.0232   </td><td> 289.02317  </td><td> 26.60084   </td><td>9.536933e-05</td></tr>\n",
       "\t<tr><th scope=row>Residuals</th><td>16          </td><td> 173.8430   </td><td>  10.86519  </td><td>       NA   </td><td>          NA</td></tr>\n",
       "</tbody>\n",
       "</table>\n"
      ],
      "text/latex": [
       "\\begin{tabular}{r|lllll}\n",
       "  & Df & Sum Sq & Mean Sq & F value & Pr(>F)\\\\\n",
       "\\hline\n",
       "\tX1 &  1           & 1211.8707    & 1211.87066   & 111.53702    & 1.278424e-08\\\\\n",
       "\tX2 &  1           &  289.0232    &  289.02317   &  26.60084    & 9.536933e-05\\\\\n",
       "\tResiduals & 16           &  173.8430    &   10.86519   &        NA    &           NA\\\\\n",
       "\\end{tabular}\n"
      ],
      "text/markdown": [
       "\n",
       "| <!--/--> | Df | Sum Sq | Mean Sq | F value | Pr(>F) |\n",
       "|---|---|---|---|---|---|\n",
       "| X1 |  1           | 1211.8707    | 1211.87066   | 111.53702    | 1.278424e-08 |\n",
       "| X2 |  1           |  289.0232    |  289.02317   |  26.60084    | 9.536933e-05 |\n",
       "| Residuals | 16           |  173.8430    |   10.86519   |        NA    |           NA |\n",
       "\n"
      ],
      "text/plain": [
       "          Df Sum Sq    Mean Sq    F value   Pr(>F)      \n",
       "X1         1 1211.8707 1211.87066 111.53702 1.278424e-08\n",
       "X2         1  289.0232  289.02317  26.60084 9.536933e-05\n",
       "Residuals 16  173.8430   10.86519        NA           NA"
      ]
     },
     "metadata": {},
     "output_type": "display_data"
    }
   ],
   "source": [
    "anova(model_insu)"
   ]
  },
  {
   "cell_type": "code",
   "execution_count": 83,
   "id": "16a7cb52",
   "metadata": {},
   "outputs": [
    {
     "data": {
      "text/html": [
       "<table>\n",
       "<thead><tr><th></th><th scope=col>2.5 %</th><th scope=col>97.5 %</th></tr></thead>\n",
       "<tbody>\n",
       "\t<tr><th scope=row>(Intercept)</th><td>30.0430345 </td><td>38.11886262</td></tr>\n",
       "\t<tr><th scope=row>X1</th><td>-0.1212844 </td><td>-0.08265647</td></tr>\n",
       "\t<tr><th scope=row>X2</th><td> 4.6488268 </td><td>11.13734621</td></tr>\n",
       "</tbody>\n",
       "</table>\n"
      ],
      "text/latex": [
       "\\begin{tabular}{r|ll}\n",
       "  & 2.5 \\% & 97.5 \\%\\\\\n",
       "\\hline\n",
       "\t(Intercept) & 30.0430345  & 38.11886262\\\\\n",
       "\tX1 & -0.1212844  & -0.08265647\\\\\n",
       "\tX2 &  4.6488268  & 11.13734621\\\\\n",
       "\\end{tabular}\n"
      ],
      "text/markdown": [
       "\n",
       "| <!--/--> | 2.5 % | 97.5 % |\n",
       "|---|---|---|\n",
       "| (Intercept) | 30.0430345  | 38.11886262 |\n",
       "| X1 | -0.1212844  | -0.08265647 |\n",
       "| X2 |  4.6488268  | 11.13734621 |\n",
       "\n"
      ],
      "text/plain": [
       "            2.5 %      97.5 %     \n",
       "(Intercept) 30.0430345 38.11886262\n",
       "X1          -0.1212844 -0.08265647\n",
       "X2           4.6488268 11.13734621"
      ]
     },
     "metadata": {},
     "output_type": "display_data"
    }
   ],
   "source": [
    "confint(model_insu)"
   ]
  },
  {
   "cell_type": "code",
   "execution_count": 84,
   "id": "59efcf7f",
   "metadata": {},
   "outputs": [
    {
     "data": {
      "text/plain": [
       "\n",
       "Call:\n",
       "lm(formula = Y ~ X1 + X2 + X1:X2, data = insu)\n",
       "\n",
       "Residuals:\n",
       "    Min      1Q  Median      3Q     Max \n",
       "-5.8327 -1.8908 -0.5067  1.9956  6.1896 \n",
       "\n",
       "Coefficients:\n",
       "              Estimate Std. Error t value Pr(>|t|)    \n",
       "(Intercept)  3.408e+01  2.557e+00  13.328 1.02e-09 ***\n",
       "X1          -1.020e-01  1.342e-02  -7.600 1.61e-06 ***\n",
       "X2           7.885e+00  3.784e+00   2.084   0.0547 .  \n",
       "X1:X2        4.608e-05  1.882e-02   0.002   0.9981    \n",
       "---\n",
       "Signif. codes:  0 '***' 0.001 '**' 0.01 '*' 0.05 '.' 0.1 ' ' 1\n",
       "\n",
       "Residual standard error: 3.404 on 15 degrees of freedom\n",
       "Multiple R-squared:  0.8962,\tAdjusted R-squared:  0.8754 \n",
       "F-statistic: 43.17 on 3 and 15 DF,  p-value: 1.293e-07\n"
      ]
     },
     "metadata": {},
     "output_type": "display_data"
    }
   ],
   "source": [
    "model_insu2 = lm(Y ~ X1 + X2 + X1:X2, insu)\n",
    "summary(model_insu2)"
   ]
  },
  {
   "cell_type": "code",
   "execution_count": null,
   "id": "614b13e8",
   "metadata": {},
   "outputs": [],
   "source": []
  }
 ],
 "metadata": {
  "kernelspec": {
   "display_name": "R",
   "language": "R",
   "name": "ir"
  },
  "language_info": {
   "codemirror_mode": "r",
   "file_extension": ".r",
   "mimetype": "text/x-r-source",
   "name": "R",
   "pygments_lexer": "r",
   "version": "3.6.1"
  }
 },
 "nbformat": 4,
 "nbformat_minor": 5
}
