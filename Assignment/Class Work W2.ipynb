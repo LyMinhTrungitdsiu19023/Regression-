{
 "cells": [
  {
   "cell_type": "code",
   "execution_count": 12,
   "id": "aef3951b",
   "metadata": {},
   "outputs": [
    {
     "data": {
      "text/html": [
       "<ol class=list-inline>\n",
       "\t<li>100.9940368003</li>\n",
       "\t<li>102.982541720571</li>\n",
       "\t<li>80.0324808656958</li>\n",
       "\t<li>68.209608677383</li>\n",
       "\t<li>95.0257240579873</li>\n",
       "\t<li>82.3122195220486</li>\n",
       "\t<li>72.0045606877521</li>\n",
       "\t<li>107.680390067918</li>\n",
       "\t<li>96.2874987228391</li>\n",
       "\t<li>112.135863524643</li>\n",
       "\t<li>151.036848215888</li>\n",
       "\t<li>105.546366539853</li>\n",
       "\t<li>80.9797024982557</li>\n",
       "\t<li>99.0483949079119</li>\n",
       "\t<li>94.7341018389961</li>\n",
       "\t<li>96.3056853989406</li>\n",
       "\t<li>115.561963654742</li>\n",
       "\t<li>106.16692329543</li>\n",
       "\t<li>95.5201430306049</li>\n",
       "\t<li>94.797401260933</li>\n",
       "\t<li>133.270682155327</li>\n",
       "\t<li>132.872736499821</li>\n",
       "\t<li>86.6660664953151</li>\n",
       "\t<li>122.677632747874</li>\n",
       "\t<li>111.462488411169</li>\n",
       "\t<li>118.98527168807</li>\n",
       "\t<li>98.9035085447469</li>\n",
       "\t<li>89.3297515368312</li>\n",
       "\t<li>126.042071905686</li>\n",
       "\t<li>96.8884706946752</li>\n",
       "\t<li>100.416699167682</li>\n",
       "\t<li>91.5017224616533</li>\n",
       "\t<li>109.53014562558</li>\n",
       "\t<li>97.0739169515613</li>\n",
       "</ol>\n"
      ],
      "text/latex": [
       "\\begin{enumerate*}\n",
       "\\item 100.9940368003\n",
       "\\item 102.982541720571\n",
       "\\item 80.0324808656958\n",
       "\\item 68.209608677383\n",
       "\\item 95.0257240579873\n",
       "\\item 82.3122195220486\n",
       "\\item 72.0045606877521\n",
       "\\item 107.680390067918\n",
       "\\item 96.2874987228391\n",
       "\\item 112.135863524643\n",
       "\\item 151.036848215888\n",
       "\\item 105.546366539853\n",
       "\\item 80.9797024982557\n",
       "\\item 99.0483949079119\n",
       "\\item 94.7341018389961\n",
       "\\item 96.3056853989406\n",
       "\\item 115.561963654742\n",
       "\\item 106.16692329543\n",
       "\\item 95.5201430306049\n",
       "\\item 94.797401260933\n",
       "\\item 133.270682155327\n",
       "\\item 132.872736499821\n",
       "\\item 86.6660664953151\n",
       "\\item 122.677632747874\n",
       "\\item 111.462488411169\n",
       "\\item 118.98527168807\n",
       "\\item 98.9035085447469\n",
       "\\item 89.3297515368312\n",
       "\\item 126.042071905686\n",
       "\\item 96.8884706946752\n",
       "\\item 100.416699167682\n",
       "\\item 91.5017224616533\n",
       "\\item 109.53014562558\n",
       "\\item 97.0739169515613\n",
       "\\end{enumerate*}\n"
      ],
      "text/markdown": [
       "1. 100.9940368003\n",
       "2. 102.982541720571\n",
       "3. 80.0324808656958\n",
       "4. 68.209608677383\n",
       "5. 95.0257240579873\n",
       "6. 82.3122195220486\n",
       "7. 72.0045606877521\n",
       "8. 107.680390067918\n",
       "9. 96.2874987228391\n",
       "10. 112.135863524643\n",
       "11. 151.036848215888\n",
       "12. 105.546366539853\n",
       "13. 80.9797024982557\n",
       "14. 99.0483949079119\n",
       "15. 94.7341018389961\n",
       "16. 96.3056853989406\n",
       "17. 115.561963654742\n",
       "18. 106.16692329543\n",
       "19. 95.5201430306049\n",
       "20. 94.797401260933\n",
       "21. 133.270682155327\n",
       "22. 132.872736499821\n",
       "23. 86.6660664953151\n",
       "24. 122.677632747874\n",
       "25. 111.462488411169\n",
       "26. 118.98527168807\n",
       "27. 98.9035085447469\n",
       "28. 89.3297515368312\n",
       "29. 126.042071905686\n",
       "30. 96.8884706946752\n",
       "31. 100.416699167682\n",
       "32. 91.5017224616533\n",
       "33. 109.53014562558\n",
       "34. 97.0739169515613\n",
       "\n",
       "\n"
      ],
      "text/plain": [
       " [1] 100.99404 102.98254  80.03248  68.20961  95.02572  82.31222  72.00456\n",
       " [8] 107.68039  96.28750 112.13586 151.03685 105.54637  80.97970  99.04839\n",
       "[15]  94.73410  96.30569 115.56196 106.16692  95.52014  94.79740 133.27068\n",
       "[22] 132.87274  86.66607 122.67763 111.46249 118.98527  98.90351  89.32975\n",
       "[29] 126.04207  96.88847 100.41670  91.50172 109.53015  97.07392"
      ]
     },
     "metadata": {},
     "output_type": "display_data"
    },
    {
     "data": {
      "text/html": [
       "<ol class=list-inline>\n",
       "\t<li>85.1947782476926</li>\n",
       "\t<li>105.976803413211</li>\n",
       "\t<li>61.0988769604846</li>\n",
       "\t<li>100.952818616434</li>\n",
       "\t<li>85.0342328992404</li>\n",
       "\t<li>101.368044160099</li>\n",
       "\t<li>92.6181057374115</li>\n",
       "\t<li>103.347137619991</li>\n",
       "\t<li>97.9522367401577</li>\n",
       "\t<li>91.232704441231</li>\n",
       "\t<li>84.261448086726</li>\n",
       "\t<li>83.9583971360389</li>\n",
       "\t<li>77.1997021233435</li>\n",
       "\t<li>74.5569498406002</li>\n",
       "\t<li>93.5053680059924</li>\n",
       "\t<li>74.5627644993043</li>\n",
       "\t<li>109.772545612211</li>\n",
       "\t<li>83.3600185760794</li>\n",
       "\t<li>84.3966542976274</li>\n",
       "\t<li>78.8516646771727</li>\n",
       "\t<li>105.675675587512</li>\n",
       "\t<li>74.1623742159373</li>\n",
       "\t<li>79.7855952994227</li>\n",
       "\t<li>71.818051189019</li>\n",
       "\t<li>105.817676993419</li>\n",
       "\t<li>89.5240499331085</li>\n",
       "\t<li>92.6350574414666</li>\n",
       "\t<li>72.400729537916</li>\n",
       "\t<li>88.2596627078967</li>\n",
       "</ol>\n"
      ],
      "text/latex": [
       "\\begin{enumerate*}\n",
       "\\item 85.1947782476926\n",
       "\\item 105.976803413211\n",
       "\\item 61.0988769604846\n",
       "\\item 100.952818616434\n",
       "\\item 85.0342328992404\n",
       "\\item 101.368044160099\n",
       "\\item 92.6181057374115\n",
       "\\item 103.347137619991\n",
       "\\item 97.9522367401577\n",
       "\\item 91.232704441231\n",
       "\\item 84.261448086726\n",
       "\\item 83.9583971360389\n",
       "\\item 77.1997021233435\n",
       "\\item 74.5569498406002\n",
       "\\item 93.5053680059924\n",
       "\\item 74.5627644993043\n",
       "\\item 109.772545612211\n",
       "\\item 83.3600185760794\n",
       "\\item 84.3966542976274\n",
       "\\item 78.8516646771727\n",
       "\\item 105.675675587512\n",
       "\\item 74.1623742159373\n",
       "\\item 79.7855952994227\n",
       "\\item 71.818051189019\n",
       "\\item 105.817676993419\n",
       "\\item 89.5240499331085\n",
       "\\item 92.6350574414666\n",
       "\\item 72.400729537916\n",
       "\\item 88.2596627078967\n",
       "\\end{enumerate*}\n"
      ],
      "text/markdown": [
       "1. 85.1947782476926\n",
       "2. 105.976803413211\n",
       "3. 61.0988769604846\n",
       "4. 100.952818616434\n",
       "5. 85.0342328992404\n",
       "6. 101.368044160099\n",
       "7. 92.6181057374115\n",
       "8. 103.347137619991\n",
       "9. 97.9522367401577\n",
       "10. 91.232704441231\n",
       "11. 84.261448086726\n",
       "12. 83.9583971360389\n",
       "13. 77.1997021233435\n",
       "14. 74.5569498406002\n",
       "15. 93.5053680059924\n",
       "16. 74.5627644993043\n",
       "17. 109.772545612211\n",
       "18. 83.3600185760794\n",
       "19. 84.3966542976274\n",
       "20. 78.8516646771727\n",
       "21. 105.675675587512\n",
       "22. 74.1623742159373\n",
       "23. 79.7855952994227\n",
       "24. 71.818051189019\n",
       "25. 105.817676993419\n",
       "26. 89.5240499331085\n",
       "27. 92.6350574414666\n",
       "28. 72.400729537916\n",
       "29. 88.2596627078967\n",
       "\n",
       "\n"
      ],
      "text/plain": [
       " [1]  85.19478 105.97680  61.09888 100.95282  85.03423 101.36804  92.61811\n",
       " [8] 103.34714  97.95224  91.23270  84.26145  83.95840  77.19970  74.55695\n",
       "[15]  93.50537  74.56276 109.77255  83.36002  84.39665  78.85166 105.67568\n",
       "[22]  74.16237  79.78560  71.81805 105.81768  89.52405  92.63506  72.40073\n",
       "[29]  88.25966"
      ]
     },
     "metadata": {},
     "output_type": "display_data"
    }
   ],
   "source": [
    "x = rnorm(34, mean = 105.5, sd = 20.1)\n",
    "x\n",
    "y = rnorm(29, mean = 90.9, sd = 12.2)\n",
    "y"
   ]
  },
  {
   "cell_type": "code",
   "execution_count": 2,
   "id": "44859419",
   "metadata": {},
   "outputs": [
    {
     "data": {
      "text/plain": [
       "\n",
       "\tF test to compare two variances\n",
       "\n",
       "data:  x and y\n",
       "F = 2.63, num df = 33, denom df = 28, p-value = 0.0108\n",
       "alternative hypothesis: true ratio of variances is not equal to 1\n",
       "95 percent confidence interval:\n",
       " 1.258953 5.375903\n",
       "sample estimates:\n",
       "ratio of variances \n",
       "          2.629996 \n"
      ]
     },
     "metadata": {},
     "output_type": "display_data"
    }
   ],
   "source": [
    "var.test(x, y)"
   ]
  },
  {
   "cell_type": "code",
   "execution_count": 14,
   "id": "15962041",
   "metadata": {},
   "outputs": [
    {
     "data": {
      "text/html": [
       "2.02410362176595"
      ],
      "text/latex": [
       "2.02410362176595"
      ],
      "text/markdown": [
       "2.02410362176595"
      ],
      "text/plain": [
       "[1] 2.024104"
      ]
     },
     "metadata": {},
     "output_type": "display_data"
    },
    {
     "data": {
      "text/html": [
       "0.489219343712521"
      ],
      "text/latex": [
       "0.489219343712521"
      ],
      "text/markdown": [
       "0.489219343712521"
      ],
      "text/plain": [
       "[1] 0.4892193"
      ]
     },
     "metadata": {},
     "output_type": "display_data"
    },
    {
     "data": {
      "text/html": [
       "2.08903495171619"
      ],
      "text/latex": [
       "2.08903495171619"
      ],
      "text/markdown": [
       "2.08903495171619"
      ],
      "text/plain": [
       "[1] 2.089035"
      ]
     },
     "metadata": {},
     "output_type": "display_data"
    }
   ],
   "source": [
    "F = var(x)/var(y)\n",
    "F\n",
    "L = qf(0.025,33,28)\n",
    "L\n",
    "U = qf(0.975,33,28)\n",
    "U"
   ]
  },
  {
   "cell_type": "code",
   "execution_count": 17,
   "id": "a9e03fe9",
   "metadata": {},
   "outputs": [
    {
     "data": {
      "text/html": [
       "<table>\n",
       "<thead><tr><th scope=col>Grade</th><th scope=col>ACT</th></tr></thead>\n",
       "<tbody>\n",
       "\t<tr><td>3.897</td><td>21   </td></tr>\n",
       "\t<tr><td>3.885</td><td>14   </td></tr>\n",
       "\t<tr><td>3.778</td><td>28   </td></tr>\n",
       "\t<tr><td>2.540</td><td>22   </td></tr>\n",
       "\t<tr><td>3.028</td><td>21   </td></tr>\n",
       "\t<tr><td>3.865</td><td>31   </td></tr>\n",
       "</tbody>\n",
       "</table>\n"
      ],
      "text/latex": [
       "\\begin{tabular}{r|ll}\n",
       " Grade & ACT\\\\\n",
       "\\hline\n",
       "\t 3.897 & 21   \\\\\n",
       "\t 3.885 & 14   \\\\\n",
       "\t 3.778 & 28   \\\\\n",
       "\t 2.540 & 22   \\\\\n",
       "\t 3.028 & 21   \\\\\n",
       "\t 3.865 & 31   \\\\\n",
       "\\end{tabular}\n"
      ],
      "text/markdown": [
       "\n",
       "| Grade | ACT |\n",
       "|---|---|\n",
       "| 3.897 | 21    |\n",
       "| 3.885 | 14    |\n",
       "| 3.778 | 28    |\n",
       "| 2.540 | 22    |\n",
       "| 3.028 | 21    |\n",
       "| 3.865 | 31    |\n",
       "\n"
      ],
      "text/plain": [
       "  Grade ACT\n",
       "1 3.897 21 \n",
       "2 3.885 14 \n",
       "3 3.778 28 \n",
       "4 2.540 22 \n",
       "5 3.028 21 \n",
       "6 3.865 31 "
      ]
     },
     "metadata": {},
     "output_type": "display_data"
    }
   ],
   "source": [
    "# I change a little bit in the original text txt Y -> Grade, X-> ACT to \n",
    "data <- read.delim(\"CH01PR19_grade.txt\", sep =\"\", header = TRUE)\n",
    "head(data)"
   ]
  },
  {
   "cell_type": "code",
   "execution_count": 18,
   "id": "94d44d3b",
   "metadata": {},
   "outputs": [
    {
     "data": {
      "image/png": "[encoded data removed]",
      "text/plain": [
       "plot without title"
      ]
     },
     "metadata": {},
     "output_type": "display_data"
    }
   ],
   "source": [
    "attach(data)\n",
    "\n",
    "plot(Grade, ACT, pch=16, col='blue', xlab = \"Freshman's grade point\", ylab = 'ACT test score')"
   ]
  },
  {
   "cell_type": "code",
   "execution_count": 19,
   "id": "fd254edd",
   "metadata": {},
   "outputs": [
    {
     "data": {
      "image/png": "[encoded data removed]",
      "text/plain": [
       "plot without title"
      ]
     },
     "metadata": {},
     "output_type": "display_data"
    }
   ],
   "source": [
    "# Scatter plot with smooth option\n",
    "scatter.smooth(Grade, ACT, col='blue', pch = 16)"
   ]
  },
  {
   "cell_type": "code",
   "execution_count": 20,
   "id": "31bf6282",
   "metadata": {},
   "outputs": [
    {
     "name": "stderr",
     "output_type": "stream",
     "text": [
      "`geom_smooth()` using method = 'loess' and formula 'y ~ x'\n"
     ]
    },
    {
     "data": {
      "image/png": "[encoded data removed]",
      "text/plain": [
       "plot without title"
      ]
     },
     "metadata": {},
     "output_type": "display_data"
    }
   ],
   "source": [
    "# install.packages(\"ggplot2\", repos = \"http://cran.us.r-project.org\")\n",
    "# Using ggplot\n",
    "library(ggplot2)\n",
    "ggplot(data, aes(x = Grade, y = ACT)) +\n",
    "  geom_point() +\n",
    "  stat_smooth()"
   ]
  },
  {
   "cell_type": "markdown",
   "id": "be48662f",
   "metadata": {},
   "source": [
    "### Using lm function"
   ]
  },
  {
   "cell_type": "code",
   "execution_count": 25,
   "id": "59582373",
   "metadata": {},
   "outputs": [
    {
     "data": {
      "text/plain": [
       "\n",
       "Call:\n",
       "lm(formula = ACT ~ Grade)\n",
       "\n",
       "Residuals:\n",
       "    Min      1Q  Median      3Q     Max \n",
       "-12.242  -3.276   0.218   2.657   9.245 \n",
       "\n",
       "Coefficients:\n",
       "            Estimate Std. Error t value Pr(>|t|)    \n",
       "(Intercept)  18.9754     1.9322   9.821  < 2e-16 ***\n",
       "Grade         1.8704     0.6153   3.040  0.00292 ** \n",
       "---\n",
       "Signif. codes:  0 '***' 0.001 '**' 0.01 '*' 0.05 '.' 0.1 ' ' 1\n",
       "\n",
       "Residual standard error: 4.325 on 118 degrees of freedom\n",
       "Multiple R-squared:  0.07262,\tAdjusted R-squared:  0.06476 \n",
       "F-statistic:  9.24 on 1 and 118 DF,  p-value: 0.002917\n"
      ]
     },
     "metadata": {},
     "output_type": "display_data"
    }
   ],
   "source": [
    "model = lm(ACT ~ Grade)\n",
    "summary(model)"
   ]
  },
  {
   "cell_type": "code",
   "execution_count": 26,
   "id": "f9e898ec",
   "metadata": {},
   "outputs": [
    {
     "data": {
      "image/png": "[encoded data removed]",
      "text/plain": [
       "plot without title"
      ]
     },
     "metadata": {},
     "output_type": "display_data"
    }
   ],
   "source": [
    "# with fitted line\n",
    "plot(Grade, ACT, pch=16, col='blue', xlab = \"Freshman's grade point\", ylab = 'ACT test score')\n",
    "abline(model$coef, lwd=2, col='orange')"
   ]
  },
  {
   "cell_type": "markdown",
   "id": "cd32dc09",
   "metadata": {},
   "source": [
    "## Manual calculation"
   ]
  },
  {
   "cell_type": "code",
   "execution_count": 27,
   "id": "af6b6de4",
   "metadata": {},
   "outputs": [
    {
     "data": {
      "text/html": [
       "92.40565"
      ],
      "text/latex": [
       "92.40565"
      ],
      "text/markdown": [
       "92.40565"
      ],
      "text/plain": [
       "[1] 92.40565"
      ]
     },
     "metadata": {},
     "output_type": "display_data"
    }
   ],
   "source": [
    "X = Grade\n",
    "Y = ACT\n",
    "val1 = sum((X - mean(X))*(Y-mean(Y)))\n",
    "val1"
   ]
  },
  {
   "cell_type": "code",
   "execution_count": 28,
   "id": "e170d61a",
   "metadata": {},
   "outputs": [
    {
     "data": {
      "text/html": [
       "49.4054537"
      ],
      "text/latex": [
       "49.4054537"
      ],
      "text/markdown": [
       "49.4054537"
      ],
      "text/plain": [
       "[1] 49.40545"
      ]
     },
     "metadata": {},
     "output_type": "display_data"
    }
   ],
   "source": [
    "sumvar =  sum((X - mean(X))^2)\n",
    "sumvar"
   ]
  },
  {
   "cell_type": "code",
   "execution_count": 29,
   "id": "76a64f4c",
   "metadata": {},
   "outputs": [
    {
     "data": {
      "text/html": [
       "1.87035323187408"
      ],
      "text/latex": [
       "1.87035323187408"
      ],
      "text/markdown": [
       "1.87035323187408"
      ],
      "text/plain": [
       "[1] 1.870353"
      ]
     },
     "metadata": {},
     "output_type": "display_data"
    },
    {
     "data": {
      "text/html": [
       "18.9754406475575"
      ],
      "text/latex": [
       "18.9754406475575"
      ],
      "text/markdown": [
       "18.9754406475575"
      ],
      "text/plain": [
       "[1] 18.97544"
      ]
     },
     "metadata": {},
     "output_type": "display_data"
    }
   ],
   "source": [
    "b1 = val1/sumvar\n",
    "b1\n",
    "b0 = mean(Y) - b1*mean(X)\n",
    "b0"
   ]
  },
  {
   "cell_type": "code",
   "execution_count": 30,
   "id": "cddceb89",
   "metadata": {},
   "outputs": [
    {
     "data": {
      "text/html": [
       "<dl class=dl-horizontal>\n",
       "\t<dt>(Intercept)</dt>\n",
       "\t\t<dd>18.9754406475575</dd>\n",
       "\t<dt>Grade</dt>\n",
       "\t\t<dd>1.87035323187407</dd>\n",
       "</dl>\n"
      ],
      "text/latex": [
       "\\begin{description*}\n",
       "\\item[(Intercept)] 18.9754406475575\n",
       "\\item[Grade] 1.87035323187407\n",
       "\\end{description*}\n"
      ],
      "text/markdown": [
       "(Intercept)\n",
       ":   18.9754406475575Grade\n",
       ":   1.87035323187407\n",
       "\n"
      ],
      "text/plain": [
       "(Intercept)       Grade \n",
       "  18.975441    1.870353 "
      ]
     },
     "metadata": {},
     "output_type": "display_data"
    }
   ],
   "source": [
    "coef(model)"
   ]
  },
  {
   "cell_type": "code",
   "execution_count": null,
   "id": "4e382b32",
   "metadata": {},
   "outputs": [],
   "source": []
  }
 ],
 "metadata": {
  "kernelspec": {
   "display_name": "R",
   "language": "R",
   "name": "ir"
  },
  "language_info": {
   "codemirror_mode": "r",
   "file_extension": ".r",
   "mimetype": "text/x-r-source",
   "name": "R",
   "pygments_lexer": "r",
   "version": "3.6.1"
  }
 },
 "nbformat": 4,
 "nbformat_minor": 5
}
