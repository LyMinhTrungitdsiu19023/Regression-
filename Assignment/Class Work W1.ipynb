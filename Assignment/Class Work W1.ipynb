{
 "cells": [
  {
   "cell_type": "markdown",
   "id": "fa9e0a04",
   "metadata": {},
   "source": [
    "## EX1"
   ]
  },
  {
   "cell_type": "code",
   "execution_count": 1,
   "id": "d89480b3",
   "metadata": {},
   "outputs": [
    {
     "name": "stdout",
     "output_type": "stream",
     "text": [
      "[1] 1.264911\n"
     ]
    }
   ],
   "source": [
    "\n",
    "n = 10\n",
    "y_bar = 20\n",
    "sdev = 4\n",
    "\n",
    "dev_mean = sdev/sqrt(n)\n",
    "print(dev_mean)"
   ]
  },
  {
   "cell_type": "code",
   "execution_count": 2,
   "id": "e5242609",
   "metadata": {},
   "outputs": [
    {
     "name": "stdout",
     "output_type": "stream",
     "text": [
      "[1] 2.262157\n"
     ]
    }
   ],
   "source": [
    "alpha = 0.05\n",
    "cri_val = qt(1-alpha/2,n-1)\n",
    "print(cri_val)"
   ]
  },
  {
   "cell_type": "code",
   "execution_count": 3,
   "id": "ee175e91",
   "metadata": {},
   "outputs": [
    {
     "data": {
      "text/html": [
       "17.1385723761173"
      ],
      "text/latex": [
       "17.1385723761173"
      ],
      "text/markdown": [
       "17.1385723761173"
      ],
      "text/plain": [
       "[1] 17.13857"
      ]
     },
     "metadata": {},
     "output_type": "display_data"
    },
    {
     "data": {
      "text/html": [
       "22.8614276238827"
      ],
      "text/latex": [
       "22.8614276238827"
      ],
      "text/markdown": [
       "22.8614276238827"
      ],
      "text/plain": [
       "[1] 22.86143"
      ]
     },
     "metadata": {},
     "output_type": "display_data"
    }
   ],
   "source": [
    "(L = y_bar- cri_val*dev_mean)\n",
    "(U = y_bar + cri_val*dev_mean)"
   ]
  },
  {
   "cell_type": "markdown",
   "id": "b33a81e2",
   "metadata": {},
   "source": [
    "## EX2"
   ]
  },
  {
   "cell_type": "code",
   "execution_count": 4,
   "id": "38d22ec0",
   "metadata": {},
   "outputs": [],
   "source": [
    "\n",
    "vector1 <- c(118, 115 ,125, 110, 112, 130, 117, 112, 115, 120, 113, 118, 119, 122, 123, 126)"
   ]
  },
  {
   "cell_type": "code",
   "execution_count": 5,
   "id": "4ecb1a8f",
   "metadata": {},
   "outputs": [
    {
     "data": {
      "text/html": [
       "118.4375"
      ],
      "text/latex": [
       "118.4375"
      ],
      "text/markdown": [
       "118.4375"
      ],
      "text/plain": [
       "[1] 118.4375"
      ]
     },
     "metadata": {},
     "output_type": "display_data"
    }
   ],
   "source": [
    "mean = mean(vector1)\n",
    "mean"
   ]
  },
  {
   "cell_type": "code",
   "execution_count": 6,
   "id": "da008269",
   "metadata": {},
   "outputs": [
    {
     "data": {
      "text/html": [
       "5.65648595272129"
      ],
      "text/latex": [
       "5.65648595272129"
      ],
      "text/markdown": [
       "5.65648595272129"
      ],
      "text/plain": [
       "[1] 5.656486"
      ]
     },
     "metadata": {},
     "output_type": "display_data"
    }
   ],
   "source": [
    "sdev = sd(vector1)     \n",
    "sdev"
   ]
  },
  {
   "cell_type": "code",
   "execution_count": 7,
   "id": "40e0026e",
   "metadata": {},
   "outputs": [
    {
     "name": "stdout",
     "output_type": "stream",
     "text": [
      "[1] 1.414121\n"
     ]
    }
   ],
   "source": [
    "n = 16\n",
    "\n",
    "dev_mean = sdev/sqrt(n)\n",
    "print(dev_mean)"
   ]
  },
  {
   "cell_type": "code",
   "execution_count": 8,
   "id": "5a33d704",
   "metadata": {},
   "outputs": [
    {
     "name": "stdout",
     "output_type": "stream",
     "text": [
      "[1] 2.13145\n"
     ]
    }
   ],
   "source": [
    "alpha = 0.05\n",
    "cri_val = qt(1-alpha/2,n-1)\n",
    "print(cri_val)"
   ]
  },
  {
   "cell_type": "code",
   "execution_count": 17,
   "id": "6484afbb",
   "metadata": {},
   "outputs": [
    {
     "data": {
      "text/html": [
       "115.423371396652"
      ],
      "text/latex": [
       "115.423371396652"
      ],
      "text/markdown": [
       "115.423371396652"
      ],
      "text/plain": [
       "[1] 115.4234"
      ]
     },
     "metadata": {},
     "output_type": "display_data"
    },
    {
     "data": {
      "text/html": [
       "121.451628603348"
      ],
      "text/latex": [
       "121.451628603348"
      ],
      "text/markdown": [
       "121.451628603348"
      ],
      "text/plain": [
       "[1] 121.4516"
      ]
     },
     "metadata": {},
     "output_type": "display_data"
    }
   ],
   "source": [
    "(L = mean - cri_val*dev_mean)\n",
    "(U = mean + cri_val*dev_mean)"
   ]
  },
  {
   "cell_type": "markdown",
   "id": "21274835",
   "metadata": {},
   "source": [
    "## EX 3"
   ]
  },
  {
   "cell_type": "code",
   "execution_count": 9,
   "id": "25c7d3b5",
   "metadata": {},
   "outputs": [],
   "source": [
    "mu0 = 20\n",
    "y_bar = 24\n",
    "y_dev = 6\n",
    "n = 15\n",
    "alpha = 0.05"
   ]
  },
  {
   "cell_type": "code",
   "execution_count": 11,
   "id": "57d12734",
   "metadata": {},
   "outputs": [
    {
     "data": {
      "text/html": [
       "1.54919333848297"
      ],
      "text/latex": [
       "1.54919333848297"
      ],
      "text/markdown": [
       "1.54919333848297"
      ],
      "text/plain": [
       "[1] 1.549193"
      ]
     },
     "metadata": {},
     "output_type": "display_data"
    },
    {
     "name": "stdout",
     "output_type": "stream",
     "text": [
      "[1] 1.76131\n",
      "[1] 2.581989\n"
     ]
    }
   ],
   "source": [
    "(mean_dev = y_dev / sqrt(n))\n",
    "\n",
    "critical_val = qt(p=1-alpha, df=n-1)\n",
    "print(critical_val)\n",
    "\n",
    "t_star = (y_bar - mu0)/ mean_dev\n",
    "print(t_star)\n",
    "\n"
   ]
  },
  {
   "cell_type": "markdown",
   "id": "37fdb06e",
   "metadata": {},
   "source": [
    "## EX 4"
   ]
  },
  {
   "cell_type": "code",
   "execution_count": 15,
   "id": "95ad929e",
   "metadata": {},
   "outputs": [
    {
     "data": {
      "text/html": [
       "1.6"
      ],
      "text/latex": [
       "1.6"
      ],
      "text/markdown": [
       "1.6"
      ],
      "text/plain": [
       "[1] 1.6"
      ]
     },
     "metadata": {},
     "output_type": "display_data"
    }
   ],
   "source": [
    "\n",
    "mu0 = 10\n",
    "y_bar = 5.7\n",
    "sdev = 8\n",
    "n = 25\n",
    "alpha = 0.02\n",
    "\n",
    "(mean_dev = sdev / sqrt(n))"
   ]
  },
  {
   "cell_type": "code",
   "execution_count": 19,
   "id": "7f993dc7",
   "metadata": {},
   "outputs": [
    {
     "name": "stdout",
     "output_type": "stream",
     "text": [
      "[1] 2.492159\n",
      "[1] -2.6875\n"
     ]
    }
   ],
   "source": [
    "t0 = qt(1-alpha/2, n - 1)\n",
    "print(t0)\n",
    "t_star = (y_bar - mu0) / mean_dev\n",
    "print(t_star)\n",
    "#Conclude H_a"
   ]
  },
  {
   "cell_type": "markdown",
   "id": "a74c1267",
   "metadata": {},
   "source": [
    "## EX 5"
   ]
  },
  {
   "cell_type": "code",
   "execution_count": 20,
   "id": "5fdb0f73",
   "metadata": {},
   "outputs": [
    {
     "data": {
      "text/html": [
       "2.121"
      ],
      "text/latex": [
       "2.121"
      ],
      "text/markdown": [
       "2.121"
      ],
      "text/plain": [
       "[1] 2.121"
      ]
     },
     "metadata": {},
     "output_type": "display_data"
    }
   ],
   "source": [
    "mu0 = 120\n",
    "y_bar = 130.1\n",
    "sdev = 21.21\n",
    "n = 100\n",
    "alpha = 0.02\n",
    "\n",
    "(mean_dev = sdev / sqrt(n))"
   ]
  },
  {
   "cell_type": "code",
   "execution_count": 22,
   "id": "3d01b0c9",
   "metadata": {},
   "outputs": [
    {
     "name": "stdout",
     "output_type": "stream",
     "text": [
      "[1] 2.364606\n",
      "[1] 4.761905\n",
      "[1] \"Reject H0\"\n"
     ]
    }
   ],
   "source": [
    "t0 = qt(1-alpha/2, n - 1)\n",
    "print(t0)\n",
    "t_star = (y_bar - mu0) / mean_dev\n",
    "print(t_star)\n",
    "if (t_star > t0) print(\"Reject H0\") else print(\"Conclude H0\")"
   ]
  },
  {
   "cell_type": "code",
   "execution_count": null,
   "id": "87acd519",
   "metadata": {},
   "outputs": [],
   "source": []
  }
 ],
 "metadata": {
  "kernelspec": {
   "display_name": "R",
   "language": "R",
   "name": "ir"
  },
  "language_info": {
   "codemirror_mode": "r",
   "file_extension": ".r",
   "mimetype": "text/x-r-source",
   "name": "R",
   "pygments_lexer": "r",
   "version": "3.6.1"
  }
 },
 "nbformat": 4,
 "nbformat_minor": 5
}
